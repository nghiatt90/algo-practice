{
 "cells": [
  {
   "cell_type": "code",
   "execution_count": 1,
   "metadata": {},
   "outputs": [],
   "source": [
    "# https://app.codesignal.com/challenge/W4jkT36sEkqMH69Xd\n",
    "# Not accepted\n",
    "\n",
    "import numpy as np\n",
    "\n",
    "\n",
    "def herbGarden(plants, days):\n",
    "    l = len(plants)+1\n",
    "    dp_leaves = np.zeros((days+2, l), dtype=np.int32)\n",
    "    dp_plants = np.zeros((days+2, l, l-1), dtype=np.int32)\n",
    "    for i in range(l):\n",
    "        dp_plants[0, i] = np.array(plants)\n",
    "    \n",
    "    for i in range(1, days+2):\n",
    "        jmax = dp_leaves[i-1].argmax()\n",
    "        dp_leaves[i, 0] = dp_leaves[i-1, jmax]\n",
    "        dp_plants[i, 0] = dp_plants[i-1, jmax].copy()\n",
    "        \n",
    "        for j in range(1, l):\n",
    "            leave_max = dp_leaves[i, 0]\n",
    "            kmax = 0\n",
    "            for k in range(l):\n",
    "                x = dp_leaves[i-1, k] + (dp_plants[i-1, k, j-1]) // 2\n",
    "                if x > leave_max:\n",
    "                    leave_max = x\n",
    "                    kmax = k\n",
    "            \n",
    "            print(f'Day {i} Plant {j} kmax {kmax}')\n",
    "            dp_leaves[i,j] = leave_max\n",
    "            dp_plants[i,j] = dp_plants[i-1, kmax].copy()\n",
    "            dp_plants[i,j,j-1] = (dp_plants[i,j,j-1] + 1) // 2\n",
    "            dp_plants[i,j] += 2\n",
    "    return dp_leaves, dp_plants"
   ]
  },
  {
   "cell_type": "code",
   "execution_count": null,
   "metadata": {},
   "outputs": [],
   "source": [
    "def growingPlant(upSpeed, downSpeed, desiredHeight):\n",
    "    a = upSpeed - downSpeed\n",
    "    return (desiredHeight - upSpeed + a - 1) // a + 1"
   ]
  }
 ],
 "metadata": {
  "kernelspec": {
   "display_name": "Python 3",
   "language": "python",
   "name": "python3"
  },
  "language_info": {
   "codemirror_mode": {
    "name": "ipython",
    "version": 3
   },
   "file_extension": ".py",
   "mimetype": "text/x-python",
   "name": "python",
   "nbconvert_exporter": "python",
   "pygments_lexer": "ipython3",
   "version": "3.7.0"
  }
 },
 "nbformat": 4,
 "nbformat_minor": 2
}
