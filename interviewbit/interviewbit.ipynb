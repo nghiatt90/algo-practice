{
 "cells": [
  {
   "cell_type": "code",
   "execution_count": 1,
   "metadata": {},
   "outputs": [],
   "source": [
    "# https://www.interviewbit.com/problems/spiral-order-matrix-i/\n",
    "\n",
    "class Solution:\n",
    "    # @param A : tuple of list of integers\n",
    "    # @return a list of integers\n",
    "    def spiralOrder(self, A):\n",
    "        rows, cols = len(A), len(A[0])\n",
    "        top, bottom, left, right = 0, rows-1, 0, cols-1\n",
    "        directions = ((0,1), (1,0), (0,-1), (-1,0))\n",
    "        current_direction = 0\n",
    "        current_x, current_y = 0, -1\n",
    "        remaining = rows * cols\n",
    "        ans = []\n",
    "        \n",
    "        while remaining:\n",
    "            while (\n",
    "                top <= current_x + directions[current_direction][0] <= bottom\n",
    "                and left <= current_y + directions[current_direction][1] <= right\n",
    "            ):\n",
    "                current_x += directions[current_direction][0]\n",
    "                current_y += directions[current_direction][1]\n",
    "                ans.append(A[current_x][current_y])\n",
    "                remaining -= 1\n",
    "            \n",
    "            if current_direction == 0:\n",
    "                top += 1\n",
    "            elif current_direction == 1:\n",
    "                right -= 1\n",
    "            elif current_direction == 2:\n",
    "                bottom -= 1\n",
    "            else:\n",
    "                left += 1\n",
    "            current_direction = (current_direction + 1) % 4\n",
    "        \n",
    "        return ans"
   ]
  },
  {
   "cell_type": "code",
   "execution_count": null,
   "metadata": {},
   "outputs": [],
   "source": []
  }
 ],
 "metadata": {
  "kernelspec": {
   "display_name": "Python 3",
   "language": "python",
   "name": "python3"
  },
  "language_info": {
   "codemirror_mode": {
    "name": "ipython",
    "version": 3
   },
   "file_extension": ".py",
   "mimetype": "text/x-python",
   "name": "python",
   "nbconvert_exporter": "python",
   "pygments_lexer": "ipython3",
   "version": "3.7.0"
  }
 },
 "nbformat": 4,
 "nbformat_minor": 2
}
