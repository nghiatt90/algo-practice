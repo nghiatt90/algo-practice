{
 "cells": [
  {
   "cell_type": "code",
   "execution_count": 1,
   "metadata": {},
   "outputs": [],
   "source": [
    "import itertools\n",
    "import os\n",
    "import shutil\n",
    "import string\n",
    "\n",
    "import numpy as np\n",
    "import pandas as pd"
   ]
  },
  {
   "cell_type": "code",
   "execution_count": 2,
   "metadata": {},
   "outputs": [],
   "source": [
    "class Problem(object):\n",
    "    \n",
    "    def __init__(self, problem_name, has_subtests=True):\n",
    "        self.problem_name = problem_name\n",
    "        self.test_id = 0\n",
    "        self.has_subtests = has_subtests\n",
    "        if os.path.exists(self.problem_name):\n",
    "            shutil.rmtree(self.problem_name)\n",
    "        os.makedirs(f'{self.problem_name}/input')\n",
    "        os.makedirs(f'{self.problem_name}/output')\n",
    "        \n",
    "    def create_inputs(self, **kwargs):\n",
    "        \"\"\"Should return a list. Each element is a line in the input.\"\"\"\n",
    "        raise NotImplementedError\n",
    "    \n",
    "    def solve(self, inputs, **kwargs):\n",
    "        \"\"\"Should return a list. Each element is a line in the output.\"\"\"\n",
    "        raise NotImplementedError\n",
    "    \n",
    "    @staticmethod\n",
    "    def save_to_file(data, file_path=None, **kwargs):\n",
    "        if isinstance(data, list):\n",
    "            data = ' '.join(str(x) for x in data)\n",
    "        print(data, file=file_path, **kwargs)\n",
    "    \n",
    "    def create_single_test(self, inputs=None, **kwargs):\n",
    "        n = 1\n",
    "        if inputs is None:\n",
    "            if self.has_subtests:\n",
    "                if 'N' in kwargs:\n",
    "                    n = kwargs['N']\n",
    "                else:\n",
    "                    n = np.random.randint(kwargs['N_MIN'], kwargs['N_MAX']+1)\n",
    "                inputs = [n]\n",
    "                outputs = []\n",
    "                for _ in range(n):\n",
    "                    inp = self.create_inputs(**kwargs)\n",
    "                    outp = self.solve(inp)\n",
    "                    inputs += inp\n",
    "                    outputs += outp\n",
    "            else:\n",
    "                inputs = self.create_inputs(**kwargs)\n",
    "                outputs = self.solve(inputs)\n",
    "        else:\n",
    "            outputs = self.solve(inputs, **kwargs)\n",
    "            if self.has_subtests:\n",
    "                inputs = [1] + inputs\n",
    "\n",
    "        self.write_test(self.test_id, inputs, outputs)\n",
    "        self.test_id += 1\n",
    "        return (self.test_id, inputs, outputs)\n",
    "    \n",
    "    def create_multiple_tests(self, n, **kwargs):\n",
    "        for i in range(n):\n",
    "            yield self.create_single_test(**kwargs)\n",
    "            \n",
    "    def write_test(self, test_id, inputs, outputs):\n",
    "        input_file = f'{self.problem_name}/input/input_{test_id:02d}.txt'\n",
    "        output_file = f'{self.problem_name}/output/output_{test_id:02d}.txt'\n",
    "\n",
    "        with open(input_file, 'w') as fp:\n",
    "            for line in inputs:\n",
    "                Problem.save_to_file(line, fp)\n",
    "\n",
    "        with open(output_file, 'w') as fp:\n",
    "            for line in outputs:\n",
    "                Problem.save_to_file(line, fp)\n",
    "    \n",
    "    def create_from_topcoder(self, filepath, input_parser=None, output_parser=None, max_test=50, **kwargs):\n",
    "        data = pd.read_csv(filepath, sep='\\t', header=None).sample(frac=1)\n",
    "        for i in range(min(len(data), max_test)):\n",
    "            inputs = data.iloc[i, 0] if input_parser is None else input_parser(data.iloc[i, 0])\n",
    "            outputs = data.iloc[i, 1] if output_parser is None else output_parser(data.iloc[i, 1])\n",
    "            self.write_test(i, inputs, outputs)\n",
    "            self.test_id += 1\n",
    "            yield (i, inputs, outputs)\n",
    "    \n",
    "\n",
    "def parse_topcoder_data(data):\n",
    "    data = data.replace('{', '[').replace('}', ']')\n",
    "    data = eval(data)\n",
    "    if not isinstance(data, tuple):\n",
    "        data = [data]\n",
    "    return data"
   ]
  },
  {
   "cell_type": "code",
   "execution_count": 43,
   "metadata": {},
   "outputs": [],
   "source": [
    "from collections import namedtuple\n",
    "\n",
    "Point = namedtuple('Point', ['x', 'y'])\n",
    "\n",
    "class CountRectangles(Problem):\n",
    "    def __init__(self):\n",
    "        super().__init__('count-rectangles', False)\n",
    "\n",
    "    def create_inputs(self, n=10000, x_max=200, y_max=200, **kwargs):\n",
    "        assert n <= x_max*y_max\n",
    "        points = list(range(x_max*y_max))\n",
    "        np.random.shuffle(points)\n",
    "        return [n] + [f'{p%x_max} {p//x_max}' for p in points]\n",
    "    \n",
    "    def solve(self, inputs, **kwargs):\n",
    "        n, *points = inputs\n",
    "        points = [Point(*(int(x) for x in p.split(' '))) for p in points]\n",
    "\n",
    "        hashset = set(points)\n",
    "        count = 0\n",
    "        for i, p1 in enumerate(points):\n",
    "            for j in range(i+1, n):\n",
    "                p2 = points[j]\n",
    "                if p1.x == p2.x or p1.y == p2.y:\n",
    "                    continue\n",
    "                count += ((p1.x, p2.y) in hashset) and ((p2.x, p1.y) in hashset)\n",
    "        \n",
    "        return [count//2]"
   ]
  },
  {
   "cell_type": "code",
   "execution_count": 44,
   "metadata": {},
   "outputs": [],
   "source": [
    "problem = CountRectangles()"
   ]
  },
  {
   "cell_type": "code",
   "execution_count": 47,
   "metadata": {},
   "outputs": [
    {
     "data": {
      "text/plain": [
       "(3, [9, '0 1', '1 0', '1 1', '0 0', '2 2', '2 0', '0 2', '3 1', '3 0'], [4])"
      ]
     },
     "execution_count": 47,
     "metadata": {},
     "output_type": "execute_result"
    }
   ],
   "source": [
    "problem.create_single_test([\n",
    "    9,\n",
    "    '0 1',\n",
    "    '1 0',\n",
    "    '1 1',\n",
    "    '0 0',\n",
    "    '2 2',\n",
    "    '2 0',\n",
    "    '0 2',\n",
    "    '3 1',\n",
    "    '3 0'\n",
    "])"
   ]
  },
  {
   "cell_type": "code",
   "execution_count": null,
   "metadata": {},
   "outputs": [],
   "source": []
  }
 ],
 "metadata": {
  "kernelspec": {
   "display_name": "science",
   "language": "python",
   "name": "science"
  },
  "language_info": {
   "codemirror_mode": {
    "name": "ipython",
    "version": 3
   },
   "file_extension": ".py",
   "mimetype": "text/x-python",
   "name": "python",
   "nbconvert_exporter": "python",
   "pygments_lexer": "ipython3",
   "version": "3.7.3"
  }
 },
 "nbformat": 4,
 "nbformat_minor": 2
}
