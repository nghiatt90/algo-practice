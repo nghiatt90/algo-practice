{
 "cells": [
  {
   "cell_type": "code",
   "execution_count": null,
   "metadata": {},
   "outputs": [],
   "source": [
    "import collections\n",
    "import heapq\n",
    "import itertools\n",
    "import os\n",
    "import shutil\n",
    "import string\n",
    "\n",
    "import numpy as np\n",
    "import pandas as pd"
   ]
  },
  {
   "cell_type": "code",
   "execution_count": null,
   "metadata": {},
   "outputs": [],
   "source": [
    "class Problem(object):\n",
    "    \n",
    "    def __init__(self, problem_name, has_subtests=True):\n",
    "        self.problem_name = problem_name\n",
    "        self.test_id = 0\n",
    "        self.has_subtests = has_subtests\n",
    "        if os.path.exists(self.problem_name):\n",
    "            shutil.rmtree(self.problem_name)\n",
    "        os.makedirs(f'{self.problem_name}/input')\n",
    "        os.makedirs(f'{self.problem_name}/output')\n",
    "        \n",
    "    def create_inputs(self, **kwargs):\n",
    "        \"\"\"Should return a list. Each element is a line in the input.\"\"\"\n",
    "        raise NotImplementedError\n",
    "    \n",
    "    def solve(self, inputs, **kwargs):\n",
    "        \"\"\"Should return a list. Each element is a line in the output.\"\"\"\n",
    "        raise NotImplementedError\n",
    "    \n",
    "    @staticmethod\n",
    "    def save_to_file(data, file_path=None, **kwargs):\n",
    "        if isinstance(data, list):\n",
    "            data = ' '.join(str(x) for x in data)\n",
    "        print(data, file=file_path, **kwargs)\n",
    "    \n",
    "    def create_single_test(self, inputs=None, **kwargs):\n",
    "        n = 1\n",
    "        if inputs is None:\n",
    "            if self.has_subtests:\n",
    "                if 'N' in kwargs:\n",
    "                    n = kwargs['N']\n",
    "                else:\n",
    "                    n = np.random.randint(kwargs['N_MIN'], kwargs['N_MAX']+1)\n",
    "                inputs = [n]\n",
    "                outputs = []\n",
    "                for _ in range(n):\n",
    "                    inp = self.create_inputs(**kwargs)\n",
    "                    outp = self.solve(inp)\n",
    "                    inputs += inp\n",
    "                    outputs += outp\n",
    "            else:\n",
    "                inputs = self.create_inputs(**kwargs)\n",
    "                outputs = self.solve(inputs)\n",
    "        else:\n",
    "            outputs = self.solve(inputs, **kwargs)\n",
    "            if self.has_subtests:\n",
    "                inputs = [1] + inputs\n",
    "\n",
    "        self.write_test(self.test_id, inputs, outputs)\n",
    "        self.test_id += 1\n",
    "        return (self.test_id-1, inputs, outputs)\n",
    "    \n",
    "    def create_multiple_tests(self, n, **kwargs):\n",
    "        for i in range(n):\n",
    "            yield self.create_single_test(**kwargs)\n",
    "            \n",
    "    def write_test(self, test_id, inputs, outputs):\n",
    "        input_file = f'{self.problem_name}/input/input_{test_id:02d}.txt'\n",
    "        output_file = f'{self.problem_name}/output/output_{test_id:02d}.txt'\n",
    "\n",
    "        with open(input_file, 'w') as fp:\n",
    "            for line in inputs:\n",
    "                Problem.save_to_file(line, fp)\n",
    "\n",
    "        with open(output_file, 'w') as fp:\n",
    "            for line in outputs:\n",
    "                Problem.save_to_file(line, fp)\n",
    "    \n",
    "    def create_from_topcoder(self, filepath, input_parser=None, output_parser=None, max_test=50, **kwargs):\n",
    "        data = pd.read_csv(filepath, sep='\\t', header=None).sample(frac=1)\n",
    "        for i in range(min(len(data), max_test)):\n",
    "            inputs = data.iloc[i, 0] if input_parser is None else input_parser(data.iloc[i, 0])\n",
    "            outputs = data.iloc[i, 1] if output_parser is None else output_parser(data.iloc[i, 1])\n",
    "            self.write_test(i, inputs, outputs)\n",
    "            self.test_id += 1\n",
    "            yield (i, inputs, outputs)\n",
    "    \n",
    "\n",
    "def parse_topcoder_data(data):\n",
    "    data = data.replace('{', '[').replace('}', ']')\n",
    "    data = eval(data)\n",
    "    if not isinstance(data, tuple):\n",
    "        data = [data]\n",
    "    return data"
   ]
  },
  {
   "cell_type": "code",
   "execution_count": null,
   "metadata": {},
   "outputs": [],
   "source": [
    "class PandemicSimulator(Problem):\n",
    "    def __init__(self):\n",
    "        super().__init__('pandemic-simulator', False)\n",
    "\n",
    "    def create_inputs(self, n_points=10000, r=1000, c=1000, **kwargs):\n",
    "        r = np.random.randint(r>>1, r+1)\n",
    "        c = np.random.randint(c>>1, c+1)\n",
    "        n = np.random.randint(n_points>>1, n_points+1)\n",
    "        idx = list(range(r*c))\n",
    "        np.random.shuffle(idx)\n",
    "        coors = [[np.random.randint(101), x//c, x%c] for x in idx[:n]]\n",
    "        return [[r, c, n]] + coors\n",
    "    \n",
    "    def solve(self, inputs, **kwargs):\n",
    "        (r, c, n), *points = inputs\n",
    "        priority_queue = []\n",
    "        matrix = [[0]*c for _ in range(r)]\n",
    "        for p, i, j in points:\n",
    "            heapq.heappush(priority_queue, (-p, i, j))\n",
    "            matrix[i][j] = -p\n",
    "            \n",
    "        # BFS\n",
    "        while priority_queue:\n",
    "            p, i, j = heapq.heappop(priority_queue)\n",
    "            if p == -1:\n",
    "                continue\n",
    "            for ii, jj in [(-1, 0), (1, 0), (0, -1), (0, 1)]:\n",
    "                ni, nj = i+ii, j+jj\n",
    "                if 0 <= ni < r and 0 <= nj < c and matrix[ni][nj] == 0:\n",
    "                    heapq.heappush(priority_queue, (p+1, ni, nj))\n",
    "                    matrix[ni][nj] = p+1\n",
    "        return [[-p for p in row] for row in matrix]"
   ]
  },
  {
   "cell_type": "code",
   "execution_count": null,
   "metadata": {},
   "outputs": [],
   "source": [
    "problem = PandemicSimulator()"
   ]
  },
  {
   "cell_type": "code",
   "execution_count": null,
   "metadata": {},
   "outputs": [],
   "source": [
    "problem.create_single_test([\n",
    "    [5, 6, 3],\n",
    "    [1, 1, 0],\n",
    "    [2, 2, 5],\n",
    "    [4, 3, 1],\n",
    "])"
   ]
  },
  {
   "cell_type": "code",
   "execution_count": null,
   "metadata": {},
   "outputs": [],
   "source": [
    "_ = problem.create_single_test([\n",
    "    [1, 1, 1],\n",
    "    [100, 0, 0],\n",
    "])"
   ]
  },
  {
   "cell_type": "code",
   "execution_count": null,
   "metadata": {},
   "outputs": [],
   "source": [
    "_ = problem.create_single_test([\n",
    "    [5000, 5000, 0],\n",
    "])"
   ]
  },
  {
   "cell_type": "code",
   "execution_count": null,
   "metadata": {},
   "outputs": [],
   "source": [
    "problem.create_single_test([\n",
    "    [10, 10, 1],\n",
    "    [100, 0, 0],\n",
    "])"
   ]
  },
  {
   "cell_type": "code",
   "execution_count": null,
   "metadata": {},
   "outputs": [],
   "source": [
    "problem.create_single_test([\n",
    "    [10, 10, 1],\n",
    "    [10, 0, 0],\n",
    "])"
   ]
  },
  {
   "cell_type": "code",
   "execution_count": null,
   "metadata": {},
   "outputs": [],
   "source": [
    "problem.create_single_test([\n",
    "    [3, 3, 9],\n",
    "    [1, 0, 0],\n",
    "    [1, 0, 1],\n",
    "    [1, 0, 2],\n",
    "    [1, 1, 0],\n",
    "    [1, 1, 1],\n",
    "    [1, 1, 2],\n",
    "    [1, 2, 0],\n",
    "    [1, 2, 1],\n",
    "    [1, 2, 2],\n",
    "])"
   ]
  },
  {
   "cell_type": "code",
   "execution_count": null,
   "metadata": {},
   "outputs": [],
   "source": [
    "problem.create_single_test([\n",
    "    [3, 3, 9],\n",
    "    [1, 0, 0],\n",
    "    [1, 0, 1],\n",
    "    [1, 0, 2],\n",
    "    [1, 1, 0],\n",
    "    [3, 1, 1],\n",
    "    [1, 1, 2],\n",
    "    [1, 2, 0],\n",
    "    [1, 2, 1],\n",
    "    [1, 2, 2],\n",
    "])"
   ]
  },
  {
   "cell_type": "code",
   "execution_count": null,
   "metadata": {},
   "outputs": [],
   "source": [
    "_ = problem.create_single_test([\n",
    "    [100, 100, 4],\n",
    "    [100, 0, 0],\n",
    "    [100, 0, 99],\n",
    "    [100, 99, 0],\n",
    "    [100, 99, 99],\n",
    "])"
   ]
  },
  {
   "cell_type": "code",
   "execution_count": null,
   "metadata": {},
   "outputs": [],
   "source": [
    "for _ in problem.create_multiple_tests(3, n_points=4, r=6, c=6): pass\n",
    "for _ in problem.create_multiple_tests(5, n_points=5, r=10, c=10): pass\n",
    "for _ in problem.create_multiple_tests(5, n_points=50, r=10, c=10): pass\n",
    "for _ in problem.create_multiple_tests(5, n_points=50, r=20, c=20): pass\n",
    "for _ in problem.create_multiple_tests(5, n_points=500, r=50, c=50): pass\n",
    "for _ in problem.create_multiple_tests(5, n_points=5000, r=300, c=300): pass\n",
    "for _ in problem.create_multiple_tests(5, n_points=10000, r=1000, c=1000): pass"
   ]
  },
  {
   "cell_type": "code",
   "execution_count": null,
   "metadata": {},
   "outputs": [],
   "source": []
  }
 ],
 "metadata": {
  "kernelspec": {
   "display_name": "Python 3.8 (science)",
   "language": "python",
   "name": "science"
  },
  "language_info": {
   "codemirror_mode": {
    "name": "ipython",
    "version": 3
   },
   "file_extension": ".py",
   "mimetype": "text/x-python",
   "name": "python",
   "nbconvert_exporter": "python",
   "pygments_lexer": "ipython3",
   "version": "3.8.3"
  }
 },
 "nbformat": 4,
 "nbformat_minor": 2
}
