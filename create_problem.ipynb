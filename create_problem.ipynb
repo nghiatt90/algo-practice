{
 "cells": [
  {
   "cell_type": "code",
   "execution_count": 1,
   "metadata": {},
   "outputs": [],
   "source": [
    "import collections\n",
    "import heapq\n",
    "import itertools\n",
    "import os\n",
    "import shutil\n",
    "import string\n",
    "\n",
    "import numpy as np\n",
    "import pandas as pd"
   ]
  },
  {
   "cell_type": "code",
   "execution_count": 2,
   "metadata": {},
   "outputs": [],
   "source": [
    "class Problem(object):\n",
    "    \n",
    "    def __init__(self, problem_name, has_subtests=True):\n",
    "        self.problem_name = problem_name\n",
    "        self.test_id = 0\n",
    "        self.has_subtests = has_subtests\n",
    "        if os.path.exists(self.problem_name):\n",
    "            shutil.rmtree(self.problem_name)\n",
    "        os.makedirs(f'{self.problem_name}/input')\n",
    "        os.makedirs(f'{self.problem_name}/output')\n",
    "        \n",
    "    def create_inputs(self, **kwargs):\n",
    "        \"\"\"Should return a list. Each element is a line in the input.\"\"\"\n",
    "        raise NotImplementedError\n",
    "    \n",
    "    def solve(self, inputs, **kwargs):\n",
    "        \"\"\"Should return a list. Each element is a line in the output.\"\"\"\n",
    "        raise NotImplementedError\n",
    "    \n",
    "    @staticmethod\n",
    "    def save_to_file(data, file_path=None, **kwargs):\n",
    "        if isinstance(data, list):\n",
    "            data = ' '.join(str(x) for x in data)\n",
    "        print(data, file=file_path, **kwargs)\n",
    "    \n",
    "    def create_single_test(self, inputs=None, **kwargs):\n",
    "        n = 1\n",
    "        if inputs is None:\n",
    "            if self.has_subtests:\n",
    "                if 'N' in kwargs:\n",
    "                    n = kwargs['N']\n",
    "                else:\n",
    "                    n = np.random.randint(kwargs['N_MIN'], kwargs['N_MAX']+1)\n",
    "                inputs = [n]\n",
    "                outputs = []\n",
    "                for _ in range(n):\n",
    "                    inp = self.create_inputs(**kwargs)\n",
    "                    outp = self.solve(inp)\n",
    "                    inputs += inp\n",
    "                    outputs += outp\n",
    "            else:\n",
    "                inputs = self.create_inputs(**kwargs)\n",
    "                outputs = self.solve(inputs)\n",
    "        else:\n",
    "            outputs = self.solve(inputs, **kwargs)\n",
    "            if self.has_subtests:\n",
    "                inputs = [1] + inputs\n",
    "\n",
    "        self.write_test(self.test_id, inputs, outputs)\n",
    "        self.test_id += 1\n",
    "        return (self.test_id-1, inputs, outputs)\n",
    "    \n",
    "    def create_multiple_tests(self, n, **kwargs):\n",
    "        for i in range(n):\n",
    "            yield self.create_single_test(**kwargs)\n",
    "            \n",
    "    def write_test(self, test_id, inputs, outputs):\n",
    "        input_file = f'{self.problem_name}/input/input_{test_id:02d}.txt'\n",
    "        output_file = f'{self.problem_name}/output/output_{test_id:02d}.txt'\n",
    "\n",
    "        with open(input_file, 'w') as fp:\n",
    "            for line in inputs:\n",
    "                Problem.save_to_file(line, fp)\n",
    "\n",
    "        with open(output_file, 'w') as fp:\n",
    "            for line in outputs:\n",
    "                Problem.save_to_file(line, fp)\n",
    "    \n",
    "    def create_from_topcoder(self, filepath, input_parser=None, output_parser=None, max_test=50, **kwargs):\n",
    "        data = pd.read_csv(filepath, sep='\\t', header=None).sample(frac=1)\n",
    "        for i in range(min(len(data), max_test)):\n",
    "            inputs = data.iloc[i, 0] if input_parser is None else input_parser(data.iloc[i, 0])\n",
    "            outputs = data.iloc[i, 1] if output_parser is None else output_parser(data.iloc[i, 1])\n",
    "            self.write_test(i, inputs, outputs)\n",
    "            self.test_id += 1\n",
    "            yield (i, inputs, outputs)\n",
    "    \n",
    "\n",
    "def parse_topcoder_data(data):\n",
    "    data = data.replace('{', '[').replace('}', ']')\n",
    "    data = eval(data)\n",
    "    if not isinstance(data, tuple):\n",
    "        data = [data]\n",
    "    return data"
   ]
  },
  {
   "cell_type": "code",
   "execution_count": 3,
   "metadata": {},
   "outputs": [],
   "source": [
    "class TrainToShibuya(Problem):\n",
    "    def __init__(self):\n",
    "        super().__init__('train-to-shibuya', has_subtests=False)\n",
    "\n",
    "    def create_inputs(self, n_max=10000, **kwargs):\n",
    "        n = np.random.randint(n_max >> 1, n_max+1)\n",
    "        return [n]\n",
    "    \n",
    "    def solve(self, inputs, **kwargs):\n",
    "        n = inputs[0]\n",
    "        MOD = int(1e9)+7\n",
    "\n",
    "        dp = [[0] * 16 for _ in range(n+1)]\n",
    "        dp[0][0] = 1\n",
    "        dp[1] = [1, 0, 0, 1, 0, 0, 1, 0, 0, 0, 0, 0, 1, 0, 0, 1]\n",
    "        for i in range(2, n+1):\n",
    "            prev, cur = dp[i-1], dp[i]\n",
    "            cur[0] = prev[15]\n",
    "            cur[1] = prev[14]\n",
    "            cur[2] = prev[13]\n",
    "            cur[3] = (prev[15] + prev[12]) % MOD\n",
    "            cur[4] = prev[11]\n",
    "            cur[5] = prev[10]\n",
    "            cur[6] = (prev[15] + prev[9]) % MOD\n",
    "            cur[7] = (prev[14] + prev[11] + prev[8]) % MOD\n",
    "            cur[8] = prev[7]\n",
    "            cur[9] = prev[6]\n",
    "            cur[10] = prev[5]\n",
    "            cur[11] = (prev[7] + prev[4]) % MOD\n",
    "            cur[12] = (prev[15] + prev[3]) % MOD\n",
    "            cur[13] = (prev[14] + prev[2]) % MOD\n",
    "            cur[14] = (prev[13] + prev[7] + prev[1]) % MOD\n",
    "            cur[15] = (prev[15] + prev[12] + prev[6] + prev[3] + prev[0]) % MOD\n",
    "        return [dp[n][15]]\n",
    "            "
   ]
  },
  {
   "cell_type": "code",
   "execution_count": 4,
   "metadata": {},
   "outputs": [],
   "source": [
    "problem = TrainToShibuya()"
   ]
  },
  {
   "cell_type": "code",
   "execution_count": 9,
   "metadata": {},
   "outputs": [
    {
     "data": {
      "text/plain": [
       "(18, [3], [11])"
      ]
     },
     "execution_count": 9,
     "metadata": {},
     "output_type": "execute_result"
    }
   ],
   "source": [
    "problem.create_single_test([3])"
   ]
  },
  {
   "cell_type": "code",
   "execution_count": 8,
   "metadata": {},
   "outputs": [],
   "source": [
    "for _ in problem.create_multiple_tests(5, n_max=100): pass\n",
    "for _ in problem.create_multiple_tests(5, n_max=1000): pass\n",
    "for _ in problem.create_multiple_tests(5, n_max=10000): pass"
   ]
  }
 ],
 "metadata": {
  "kernelspec": {
   "display_name": "Python 3.8 (science)",
   "language": "python",
   "name": "science"
  },
  "language_info": {
   "codemirror_mode": {
    "name": "ipython",
    "version": 3
   },
   "file_extension": ".py",
   "mimetype": "text/x-python",
   "name": "python",
   "nbconvert_exporter": "python",
   "pygments_lexer": "ipython3",
   "version": "3.8.3"
  }
 },
 "nbformat": 4,
 "nbformat_minor": 2
}
