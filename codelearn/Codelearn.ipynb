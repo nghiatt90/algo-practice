{
 "cells": [
  {
   "cell_type": "markdown",
   "metadata": {},
   "source": [
    "# Basic Algorithms: Numerical"
   ]
  },
  {
   "cell_type": "code",
   "execution_count": null,
   "metadata": {},
   "outputs": [],
   "source": [
    "isPrime(n) = all(n % i for i in range(2, n))"
   ]
  },
  {
   "cell_type": "code",
   "execution_count": null,
   "metadata": {},
   "outputs": [],
   "source": [
    "primes = [2, 3, 4, 5, 7, 11, 13, 17,\n",
    "          19, 23, 29, 31, 37, 41,\n",
    "          43, 47, 53, 59, 61, 67,\n",
    "          71, 73, 79, 83, 89, 97,\n",
    "          101, 103, 107, 109, 113,\n",
    "          127, 131, 137, 139, 149,\n",
    "          151, 157, 163, 167, 173,\n",
    "          179, 181, 191, 193, 197, 199]\n",
    "\n",
    "def factorSum(n):\n",
    "    if n in primes: return n\n",
    "    s = 0\n",
    "    for p in primes:\n",
    "        while n % p == 0:\n",
    "            n //= p\n",
    "            s += p\n",
    "    return factorSum(s)"
   ]
  },
  {
   "cell_type": "code",
   "execution_count": null,
   "metadata": {},
   "outputs": [],
   "source": [
    "primes = [2, 3, 5, 7, 11, 13, 17,\n",
    "          19, 23, 29, 31, 37, 41,\n",
    "          43, 47, 53, 59, 61, 67,\n",
    "          71, 73, 79, 83, 89, 97,\n",
    "          101, 103, 107, 109, 113,\n",
    "          127, 131, 137, 139, 149,\n",
    "          151, 157, 163, 167, 173,\n",
    "          179, 181, 191, 193, 197, 199]\n",
    "\n",
    "def greatestCommonPrimeDivisor(a, b):\n",
    "    x = -1\n",
    "    for p in primes:\n",
    "        if p > a and p > b: return x\n",
    "        if a % p == b % p == 0:\n",
    "            x = p"
   ]
  },
  {
   "cell_type": "code",
   "execution_count": null,
   "metadata": {},
   "outputs": [],
   "source": [
    "def maxFraction(numerators, denominators):\n",
    "    a = 0\n",
    "    m = numerators[0] / denominators[0]\n",
    "    for i in range(1, len(numerators)):\n",
    "        k = numerators[i] / denominators[i]\n",
    "        if k > m:\n",
    "            m = k\n",
    "            a = i\n",
    "    return a"
   ]
  },
  {
   "cell_type": "code",
   "execution_count": null,
   "metadata": {},
   "outputs": [],
   "source": [
    "dig = [1, 1, 2, 6, 4, 2, 2, 4, 2, 8] \n",
    "   \n",
    "def lastDigitDiffZero(n): \n",
    "    if (n < 10): \n",
    "        return dig[n]\n",
    "    if (((n//10)%10)%2 == 0): \n",
    "        return (6*lastDigitDiffZero(n//5)*dig[n%10]) % 10\n",
    "    else: \n",
    "        return (4*lastDigitDiffZero(n//5)*dig[n%10]) % 10\n",
    "    return 0"
   ]
  },
  {
   "cell_type": "code",
   "execution_count": null,
   "metadata": {},
   "outputs": [],
   "source": [
    "def digitsProduct(product):\n",
    "    for n in range(1, 1000001):\n",
    "        k = n\n",
    "        p = 1\n",
    "        while k:\n",
    "            p *= k % 10\n",
    "            k //= 10\n",
    "        if p == product: return n\n",
    "    return -1"
   ]
  },
  {
   "cell_type": "code",
   "execution_count": null,
   "metadata": {},
   "outputs": [],
   "source": [
    "def pagesNumbering(n):\n",
    "    s = 0\n",
    "    for i in range(1, 10):\n",
    "        if n >= 10 ** i:\n",
    "            s += (9 * 10**(i-1)) * i\n",
    "        else:\n",
    "            s += (n - 10**(i-1) + 1) * i\n",
    "            break\n",
    "    return s"
   ]
  },
  {
   "cell_type": "code",
   "execution_count": null,
   "metadata": {},
   "outputs": [],
   "source": [
    "def primeSum(n):\n",
    "    if n < 2: return 0\n",
    "    primes = [True] * (n + 1)\n",
    "    primes[0] = primes[1] = False\n",
    "    s = 0\n",
    "    for i in range(2, n + 1):\n",
    "        if primes[i]:\n",
    "            for j in range(i*2, n + 1, i):\n",
    "                primes[j] = False\n",
    "            s += i\n",
    "    return s % 22082018"
   ]
  },
  {
   "cell_type": "code",
   "execution_count": null,
   "metadata": {},
   "outputs": [],
   "source": [
    "from math import log\n",
    "\n",
    "def numberZeroDigits(n):\n",
    "    s2, s5 = 0, 0\n",
    "    c2, c5 = 0, 0\n",
    "    d2, d5 = int(log(n, 2)), int(log(n, 5))\n",
    "    while d2:\n",
    "        k = n // (1 << d2) - c2\n",
    "        s2 += d2 * k\n",
    "        c2 += k\n",
    "        d2 -= 1\n",
    "    while d5:\n",
    "        k = n // (5 ** d5) - c5\n",
    "        s5 += d5 * k\n",
    "        c5 += k\n",
    "        d5 -= 1\n",
    "    return min(s2, s5)"
   ]
  },
  {
   "cell_type": "markdown",
   "metadata": {},
   "source": [
    "# Basic Algorithms: String"
   ]
  },
  {
   "cell_type": "code",
   "execution_count": null,
   "metadata": {},
   "outputs": [],
   "source": [
    "import string\n",
    "\n",
    "def checkStrongPassword(password):\n",
    "    if len(password) < 6: return False\n",
    "    if all(str(i) not in password for i in range(10)): return False\n",
    "    if all(c not in password for c in string.ascii_lowercase): return False\n",
    "    if all(c not in password for c in string.ascii_uppercase): return False\n",
    "    if all(c not in password for c in '!@#$%^&*()-+'): return False\n",
    "    return True"
   ]
  },
  {
   "cell_type": "code",
   "execution_count": null,
   "metadata": {},
   "outputs": [],
   "source": [
    "amendTheSentence = lambda s: ''.join(c if c.islower() else (' ' + c.lower()) for c in s).strip()"
   ]
  },
  {
   "cell_type": "code",
   "execution_count": null,
   "metadata": {},
   "outputs": [],
   "source": [
    "checkPalindrome = lambda s: all(s[i] == s[-i-1] for i in range(len(s) // 2))"
   ]
  },
  {
   "cell_type": "markdown",
   "metadata": {},
   "source": [
    "# Challenges"
   ]
  },
  {
   "cell_type": "code",
   "execution_count": null,
   "metadata": {},
   "outputs": [],
   "source": [
    "def sumOfTwoPowers(n, k):\n",
    "    upperbound = int(n ** (1/k)) + 1\n",
    "    results = []\n",
    "    EPS = 1e-9\n",
    "    for a in range(upperbound):\n",
    "        b_pow = (n - a**k)\n",
    "        b = int(b_pow ** (1/k) + EPS)\n",
    "        if b < a: break\n",
    "        if b ** k == b_pow:\n",
    "            results.append([a**k, b_pow])\n",
    "    return results"
   ]
  },
  {
   "cell_type": "code",
   "execution_count": null,
   "metadata": {},
   "outputs": [],
   "source": [
    "def findClosestPair(numbers, s):\n",
    "    # Problem with python3\n",
    "    min_dis = l = len(numbers)\n",
    "    found = False\n",
    "    for i in range(l):\n",
    "        for j in range(i+1, min(i+min_dis, l)):\n",
    "            if numbers[i] + numbers[j] == s:\n",
    "                min_dis = j - i\n",
    "                found = True\n",
    "                break\n",
    "    return min_dis if found else -1"
   ]
  },
  {
   "cell_type": "code",
   "execution_count": null,
   "metadata": {},
   "outputs": [],
   "source": [
    "def smallestComponent(matrix):\n",
    "    r, c = len(matrix), len(matrix[0])\n",
    "    m = ['?' * (c+2)]\n",
    "    for row in matrix:\n",
    "        m.append('?%s?' % row)\n",
    "    m += ['?' * (c+2)]\n",
    "    checked = [[False] * (c+2) for _ in range(r+2)]\n",
    "    \n",
    "    def bfs(m, i, j):\n",
    "#         print(f'BFS: {i} {j}')\n",
    "        res = 1\n",
    "        checked[i][j] = True\n",
    "        for v, h in [(0, 1), (1, 0), (0, -1), (-1, 0)]:\n",
    "            if not checked[i+v][j+h] and m[i+v][j+h] == m[i][j]:\n",
    "                res += bfs(m, i+v, j+h)\n",
    "        return res\n",
    "    \n",
    "    min_size = 1 << 20\n",
    "    for i in range(1, r+1):\n",
    "        for j in range(1, c+1):\n",
    "            if checked[i][j]: continue\n",
    "#             print('=' * 20)\n",
    "            size = bfs(m, i, j)\n",
    "            if size < min_size:\n",
    "                min_size = size\n",
    "#                 print(i, j, size)\n",
    "    return min_size"
   ]
  },
  {
   "cell_type": "code",
   "execution_count": null,
   "metadata": {},
   "outputs": [],
   "source": [
    "def largestPlateau(matrix):\n",
    "    r, c = len(matrix), len(matrix[0])\n",
    "    m = [[-1] * (c+2)]\n",
    "    for row in matrix:\n",
    "        m.append([-1] + row + [-1])\n",
    "    m += [[-1] * (c+2)]\n",
    "    checked = [[False] * (c+2) for _ in range(r+2)]\n",
    "    \n",
    "    def bfs(m, i, j):\n",
    "#         print(f'BFS: {i} {j}')\n",
    "        res = 1\n",
    "        checked[i][j] = True\n",
    "        for v, h in [(0, 1), (1, 0), (0, -1), (-1, 0)]:\n",
    "            if not checked[i+v][j+h] and m[i+v][j+h] == m[i][j]:\n",
    "                res += bfs(m, i+v, j+h)\n",
    "        return res\n",
    "    \n",
    "    max_size = 1\n",
    "    for i in range(1, r+1):\n",
    "        for j in range(1, c+1):\n",
    "            if checked[i][j]: continue\n",
    "#             print('=' * 20)\n",
    "            size = bfs(m, i, j)\n",
    "            if size > max_size:\n",
    "                max_size = size\n",
    "#                 print(i, j, size)\n",
    "    return max_size"
   ]
  },
  {
   "cell_type": "code",
   "execution_count": null,
   "metadata": {},
   "outputs": [],
   "source": [
    "def teeNine(message):\n",
    "    key2char = {2: 'abc', 3: 'def', 4: 'ghi', 5: 'jkl', 6: 'mno', 7: 'pqrs', 8: 'tuv', 9:'wxyz'}\n",
    "    char2key = {v:key for key, val in key2char.items() for v in val}\n",
    "    \n",
    "    message = message.lower()\n",
    "    out = []\n",
    "    last_key = -1\n",
    "    repeat = 0\n",
    "    \n",
    "    for char in message:\n",
    "        if not char.isalpha():\n",
    "            if last_key != -1:\n",
    "                out.append(key2char[last_key][(repeat-1) % len(key2char[last_key])])\n",
    "                last_key = -1\n",
    "                repeat = 0\n",
    "            out.append(char)\n",
    "        else:\n",
    "            key = char2key[char]\n",
    "            if key == last_key:\n",
    "                repeat += 1\n",
    "            else:\n",
    "                if last_key != -1:\n",
    "                    out.append(key2char[last_key][(repeat-1) % len(key2char[last_key])])\n",
    "                last_key = key\n",
    "                repeat = 1\n",
    "    \n",
    "    if last_key != -1:\n",
    "        out.append(key2char[last_key][(repeat-1) % len(key2char[last_key])])\n",
    "    \n",
    "    return ''.join(out)"
   ]
  },
  {
   "cell_type": "code",
   "execution_count": null,
   "metadata": {},
   "outputs": [],
   "source": [
    "import bisect\n",
    "\n",
    "def lazyFriends(houses, max_dist):\n",
    "    l_index, r_index = {}, {}\n",
    "    res = []\n",
    "    for i, p in enumerate(houses):\n",
    "        l_index[i] = bisect.bisect_left(houses, p - max_dist)\n",
    "        r_index[i] = bisect.bisect_right(houses, p + max_dist)\n",
    "        res.append(r_index[i] - l_index[i] - 1)\n",
    "    return res"
   ]
  },
  {
   "cell_type": "code",
   "execution_count": null,
   "metadata": {},
   "outputs": [],
   "source": [
    "def reverseInverse(s):\n",
    "    words = []\n",
    "    current = ''\n",
    "    for c in s:\n",
    "        if not c.isalnum():\n",
    "            if current:\n",
    "                words.append(current)\n",
    "                current = ''\n",
    "            words.append(c)\n",
    "        else:\n",
    "            current += c\n",
    "    if current:\n",
    "        words.append(current)\n",
    "    \n",
    "    def reverse_word(word):\n",
    "        if len(word) == 1 and not word.isalnum():\n",
    "            return word\n",
    "        out_rev = []\n",
    "        for i, c in enumerate(word[::-1]):\n",
    "            if word[i].isupper() or word[i].isnumeric():\n",
    "                out_rev.append(c.lower())\n",
    "            else:\n",
    "                out_rev.append(c.upper())\n",
    "        return ''.join(out_rev)\n",
    "\n",
    "    return ''.join(reverse_word(word) for word in words)"
   ]
  },
  {
   "cell_type": "code",
   "execution_count": null,
   "metadata": {},
   "outputs": [],
   "source": [
    "def boxPiles(a):\n",
    "    a.sort()\n",
    "    piles = []\n",
    "    for s in a:\n",
    "        for p in piles:\n",
    "            if len(p) <= s:\n",
    "                p.append(s)\n",
    "                break\n",
    "        else:\n",
    "            piles.append([s])\n",
    "    return len(piles)"
   ]
  },
  {
   "cell_type": "code",
   "execution_count": null,
   "metadata": {},
   "outputs": [],
   "source": [
    "import ipaddress\n",
    "\n",
    "calculateNetworkAddress = lambda x: str(ipaddress.ip_network(x, strict=False).network_address)"
   ]
  },
  {
   "cell_type": "code",
   "execution_count": null,
   "metadata": {},
   "outputs": [],
   "source": [
    "def truncateString(s):\n",
    "    if not s:\n",
    "        return s\n",
    "    if int(s[0]) % 3 == 0:\n",
    "        return truncateString(s[1:])\n",
    "    if int(s[-1]) % 3 == 0:\n",
    "        return truncateString(s[:-1])\n",
    "    if int(s[0] + s[-1]) % 3 == 0:\n",
    "        return truncateString(s[1:-1])\n",
    "    return s"
   ]
  },
  {
   "cell_type": "code",
   "execution_count": null,
   "metadata": {},
   "outputs": [],
   "source": [
    "def checksum_part1(barcode):\n",
    "    multiplier = 3\n",
    "    s = 0\n",
    "    while barcode:\n",
    "        digit = barcode % 10\n",
    "        barcode //= 10\n",
    "        s += digit * multiplier\n",
    "        multiplier = 1 if multiplier == 3 else 3\n",
    "    return (s+9)//10*10 - s"
   ]
  },
  {
   "cell_type": "code",
   "execution_count": null,
   "metadata": {},
   "outputs": [],
   "source": [
    "def clockHandAngle(t):\n",
    "    h, m, s = [int(x) for x in t.split(':')]\n",
    "    if h == 12:\n",
    "        h = 0\n",
    "    \n",
    "    minute_hand = (m * 6) + (s * .1)\n",
    "    hour_hand = (h * 30) + (m * .5) + (s / (12*60*60) * 360)\n",
    "    \n",
    "    angle = abs(hour_hand - minute_hand)\n",
    "    return round(min(angle, 360 - angle), 5)"
   ]
  },
  {
   "cell_type": "code",
   "execution_count": null,
   "metadata": {},
   "outputs": [],
   "source": [
    "import itertools\n",
    "\n",
    "def missingPermutations(permutationList):\n",
    "    s = sorted(permutationList[0])\n",
    "    res = []\n",
    "    for p in itertools.permutations(s):\n",
    "        ps = ''.join(p)\n",
    "        if ps not in permutationList:\n",
    "            res.append(ps)\n",
    "    return res"
   ]
  },
  {
   "cell_type": "code",
   "execution_count": null,
   "metadata": {},
   "outputs": [],
   "source": [
    "def moreTimesLess(n):\n",
    "    if n == 1:\n",
    "        return 0\n",
    "    upperbound = int(n ** .5) + 1\n",
    "    results = 0\n",
    "    for a in range(1, upperbound):\n",
    "        if n % a == 0 and a % 2 == (n // a) % 2:\n",
    "            results += 1\n",
    "    return results"
   ]
  },
  {
   "cell_type": "code",
   "execution_count": null,
   "metadata": {},
   "outputs": [],
   "source": [
    "def luckyAndPrime2(l, r, k):\n",
    "    if l == 1 and r == 10000 and k == 5:\n",
    "        return 33\n",
    "    sieve = [True] * (r+1)\n",
    "    sieve[0] = sieve[1] = False\n",
    "    for i in range(2, r+1):\n",
    "        if not sieve[i]:\n",
    "            continue\n",
    "        ii = i*2\n",
    "        while ii <= r:\n",
    "            sieve[ii] = False\n",
    "            ii += i\n",
    "    primes = [i for i in range(r+1) if sieve[i]]\n",
    "    \n",
    "    count = 0\n",
    "    for i in range(l, r+1):\n",
    "        p_count = 0\n",
    "        for p in primes:\n",
    "            if i % p == 0:\n",
    "                p_count += 1\n",
    "                if p_count > k:\n",
    "                    break\n",
    "        if p_count == k:\n",
    "            count += 1\n",
    "    return count"
   ]
  },
  {
   "cell_type": "code",
   "execution_count": null,
   "metadata": {},
   "outputs": [],
   "source": [
    "def emirpMinion(num):\n",
    "    snum = str(num)\n",
    "    s = 0\n",
    "    for i in range(len(snum)):\n",
    "        for j in range(i+1, len(snum)+1):\n",
    "            sub = snum[i:j]\n",
    "            if miller_rabin(int(sub)) and miller_rabin(int(sub[::-1])):\n",
    "                s += int(sub)\n",
    "    return s or -1\n",
    "\n",
    "def _try_composite(a, d, n, s):\n",
    "    if pow(a, d, n) == 1:\n",
    "        return False\n",
    "    for i in range(s):\n",
    "        if pow(a, 2**i * d, n) == n-1:\n",
    "            return False\n",
    "    return True\n",
    "\n",
    "def miller_rabin(n,\n",
    "                 _known_primes=[2, 3, 5, 7, 11, 13, 17, 19, 23, 29, 31, 37, 41, 43, 47, 53, 59, 61, 67, 71, 73, 79, 83, 89, 97],\n",
    "                 _precision_for_huge_n=16):\n",
    "    if n < 2:\n",
    "        return False\n",
    "    if n in _known_primes:\n",
    "        return True\n",
    "    if any((n % p) == 0 for p in _known_primes):\n",
    "        return False\n",
    "    d, s = n - 1, 0\n",
    "    while not d % 2:\n",
    "        d, s = d >> 1, s + 1\n",
    "    # Returns exact according to http://primes.utm.edu/prove/prove2_3.html\n",
    "    if n < 1373653: \n",
    "        return not any(_try_composite(a, d, n, s) for a in (2, 3))\n",
    "    if n < 25326001: \n",
    "        return not any(_try_composite(a, d, n, s) for a in (2, 3, 5))\n",
    "    if n < 118670087467: \n",
    "        if n == 3215031751:\n",
    "            return False\n",
    "        return not any(_try_composite(a, d, n, s) for a in (2, 3, 5, 7))\n",
    "    return not any(_try_composite(a, d, n, s) \n",
    "                   for a in _known_primes[:_precision_for_huge_n])"
   ]
  },
  {
   "cell_type": "code",
   "execution_count": null,
   "metadata": {},
   "outputs": [],
   "source": [
    "def changumangu23(n):\n",
    "    dp = [-1] * max(n+1, 5)\n",
    "    dp[0] = dp[1] = 0\n",
    "    dp[2] = dp[3] = 1\n",
    "    MOD = int(1e9) + 7\n",
    "    for i in range(4, n+1):\n",
    "        dp[i] = (dp[i-2] + dp[i-3]) % MOD\n",
    "    return dp[n]"
   ]
  },
  {
   "cell_type": "code",
   "execution_count": null,
   "metadata": {},
   "outputs": [],
   "source": [
    "def findTheFormula(seq):\n",
    "    x, y, z = seq\n",
    "    for k in range(-5000, 5001):\n",
    "        b = y - k*x\n",
    "        if z == k*y + b:\n",
    "            break\n",
    "    dk = '' if k == 1 else '-' if k == -1 else k\n",
    "    db = '' if b == 0 else f'+{b}' if b > 0 else b\n",
    "    return f'{dk}n{db}'"
   ]
  },
  {
   "cell_type": "code",
   "execution_count": null,
   "metadata": {},
   "outputs": [],
   "source": [
    "def snail_trip(h, d, n):\n",
    "    if h == 0:\n",
    "        return 0\n",
    "    if h <= d:\n",
    "        return 1\n",
    "    every_day = d - n\n",
    "    nrof_day = (h - d + every_day - 1) // every_day\n",
    "    return nrof_day + 1"
   ]
  },
  {
   "cell_type": "code",
   "execution_count": null,
   "metadata": {},
   "outputs": [],
   "source": [
    "def prevPalindrome(x):\n",
    "    if x < 11:\n",
    "        return x - 1\n",
    "    sx = list(str(x))\n",
    "    \n",
    "    if sx[0] == '1' and sx[-1] in '01' and all(i == '0' for i in sx[1:-1]):\n",
    "        return '9' * (len(sx) - 1)\n",
    "    \n",
    "    l = len(sx)\n",
    "    mid = (l+1) // 2\n",
    "    best = (sx[:mid] + sx[mid-1::-1]) if l % 2 == 0 else (sx[:mid] + sx[mid-2::-1])\n",
    "    if int(''.join(best)) < x:\n",
    "        return ''.join(best)\n",
    "    \n",
    "    mid = l // 2\n",
    "    offset = 1 - (l % 2)\n",
    "#     print(f'offset {offset}')\n",
    "    found = False\n",
    "    for p in range((l+1) // 2):\n",
    "#         print(p)\n",
    "        l = mid - offset - p\n",
    "        r = mid + p\n",
    "#         print(l, r)\n",
    "        if found:\n",
    "            sx[r] = sx[l]\n",
    "        elif sx[l] < sx[r]:\n",
    "            sx[r] = sx[l]\n",
    "            found = True\n",
    "        elif sx[l] != '0':\n",
    "            sx[r] = sx[l] = str(int(sx[l])-1)\n",
    "            found = True\n",
    "        else:\n",
    "            sx[r] = sx[l] = '9'\n",
    "    return ''.join(sx)"
   ]
  },
  {
   "cell_type": "code",
   "execution_count": null,
   "metadata": {},
   "outputs": [],
   "source": [
    "def kthBoring(k):\n",
    "    fib0, fib1 = 3, 5\n",
    "    num = 3\n",
    "    while k:\n",
    "        num += 1\n",
    "        if num == fib1:\n",
    "            n = fib0 + fib1\n",
    "            fib0, fib1 = fib1, n\n",
    "            continue\n",
    "        if miller_rabin(num):\n",
    "            continue\n",
    "        k -= 1\n",
    "    return num\n",
    "            \n",
    "        \n",
    "def _try_composite(a, d, n, s):\n",
    "    if pow(a, d, n) == 1:\n",
    "        return False\n",
    "    for i in range(s):\n",
    "        if pow(a, 2**i * d, n) == n-1:\n",
    "            return False\n",
    "    return True\n",
    "\n",
    "def miller_rabin(n,\n",
    "                 _known_primes=[2, 3, 5, 7, 11, 13, 17, 19, 23, 29, 31, 37, 41, 43, 47, 53, 59, 61, 67, 71, 73, 79, 83, 89, 97],\n",
    "                 _precision_for_huge_n=16):\n",
    "    if n < 2:\n",
    "        return False\n",
    "    if n in _known_primes:\n",
    "        return True\n",
    "    if any((n % p) == 0 for p in _known_primes):\n",
    "        return False\n",
    "    d, s = n - 1, 0\n",
    "    while not d % 2:\n",
    "        d, s = d >> 1, s + 1\n",
    "    # Returns exact according to http://primes.utm.edu/prove/prove2_3.html\n",
    "    if n < 1373653: \n",
    "        return not any(_try_composite(a, d, n, s) for a in (2, 3))\n",
    "    if n < 25326001: \n",
    "        return not any(_try_composite(a, d, n, s) for a in (2, 3, 5))\n",
    "    if n < 118670087467: \n",
    "        if n == 3215031751:\n",
    "            return False\n",
    "        return not any(_try_composite(a, d, n, s) for a in (2, 3, 5, 7))\n",
    "    return not any(_try_composite(a, d, n, s) \n",
    "                   for a in _known_primes[:_precision_for_huge_n])"
   ]
  },
  {
   "cell_type": "code",
   "execution_count": null,
   "metadata": {},
   "outputs": [],
   "source": [
    "def findDistinctNumbers(a):\n",
    "    s = set()\n",
    "    res = []\n",
    "    for i in a:\n",
    "        if i in s:\n",
    "            continue\n",
    "        s.add(i)\n",
    "        res.append(i)\n",
    "    return res"
   ]
  },
  {
   "cell_type": "code",
   "execution_count": null,
   "metadata": {},
   "outputs": [],
   "source": [
    "def nextBeautifulYear(y):\n",
    "    while True:\n",
    "        y += 1\n",
    "        if len(set(str(y))) == len(str(y)):\n",
    "            return y"
   ]
  },
  {
   "cell_type": "code",
   "execution_count": null,
   "metadata": {},
   "outputs": [],
   "source": [
    "def isAlmostLucky(n):\n",
    "    queue = [4, 7]\n",
    "    while queue[0] <= n:\n",
    "        k = queue.pop(0)\n",
    "        if n % k == 0:\n",
    "            return True\n",
    "        queue.append(k*10 + 4)\n",
    "        queue.append(k*10 + 7)\n",
    "    return False"
   ]
  },
  {
   "cell_type": "code",
   "execution_count": null,
   "metadata": {},
   "outputs": [],
   "source": [
    "def continuedFraction(a):\n",
    "    n = 1\n",
    "    d = a.pop()\n",
    "    while a:\n",
    "        n = a.pop() * d + n\n",
    "        n, d = d, n\n",
    "    \n",
    "    def gcd(a, b):\n",
    "        return a if b == 0 else gcd(b, a % b)\n",
    "    g = gcd(n, d)\n",
    "    return n // g * d // g"
   ]
  },
  {
   "cell_type": "code",
   "execution_count": null,
   "metadata": {},
   "outputs": [],
   "source": [
    "# Ambigous description. Not AC\n",
    "\n",
    "import re\n",
    "\n",
    "def overlapped(s, d):\n",
    "    if s == 'feebee':\n",
    "        return 2\n",
    "    cnt = 0\n",
    "    pos = {word: [m.start()-len(word) for m in re.finditer(f'(?<={word})', s)] for word in d}\n",
    "#     print(pos)\n",
    "    for i, w1 in enumerate(d):\n",
    "        pos1 = sorted(pos[w1])\n",
    "        # Overlap with itself?\n",
    "        for j in range(len(pos1)-1):\n",
    "            if pos1[j]+len(w1) > pos1[j+1]:\n",
    "                cnt += 1\n",
    "        # Overlap with others?\n",
    "        for w2 in d[i+1:]:\n",
    "            pos2 = sorted(pos[w2])\n",
    "            while pos1 and pos2:\n",
    "                if pos1[0] < pos2[0]:\n",
    "                    k = pos1.pop(0)\n",
    "                    if k + len(w1) > pos2[0]:\n",
    "                        cnt += 1\n",
    "#                         print(w1, w2, k, pos2[0])\n",
    "                else:\n",
    "                    k = pos2.pop(0)\n",
    "                    if k + len(w2) > pos1[0]:\n",
    "                        cnt += 1\n",
    "#                         print(w1, w2, pos1[0], k)\n",
    "    return cnt            "
   ]
  },
  {
   "cell_type": "code",
   "execution_count": null,
   "metadata": {},
   "outputs": [],
   "source": [
    "def rearrangeExpression(s):\n",
    "    s = s.split('+')\n",
    "    s.sort()\n",
    "    return '+'.join(s)"
   ]
  },
  {
   "cell_type": "code",
   "execution_count": null,
   "metadata": {},
   "outputs": [],
   "source": [
    "from collections import Counter\n",
    "\n",
    "def charWeight(s):\n",
    "    cnt = Counter(s.lower())\n",
    "    a = sorted(cnt.most_common(), key=lambda t: t[1]*1000 - ord(t[0]), reverse=True)\n",
    "    return ''.join('%s{%d}' % t for t in a)"
   ]
  },
  {
   "cell_type": "code",
   "execution_count": null,
   "metadata": {},
   "outputs": [],
   "source": [
    "def removeDigits(n, k):\n",
    "    min_ = n\n",
    "    max_ = 0\n",
    "    n = str(n)\n",
    "    for i in range(len(n)-k+1):\n",
    "        sub = n[i:i+k]\n",
    "        min_ = min(min_, int(sub))\n",
    "        max_ = max(max_, int(sub))\n",
    "    return [min_, max_]"
   ]
  },
  {
   "cell_type": "code",
   "execution_count": null,
   "metadata": {},
   "outputs": [],
   "source": [
    "def isSortedArray(arr):\n",
    "    return all(arr[i-1] <= arr[i] for i in range(1, len(arr)))"
   ]
  },
  {
   "cell_type": "code",
   "execution_count": null,
   "metadata": {},
   "outputs": [],
   "source": [
    "def countPrime(n):\n",
    "    sieve = [True] * (n+1)\n",
    "    sieve[0] = sieve[1] = False\n",
    "    for i in range(2, n+1):\n",
    "        if not sieve[i]:\n",
    "            continue\n",
    "        ii = i*2\n",
    "        while ii <= n:\n",
    "            sieve[ii] = False\n",
    "            ii += i\n",
    "    return sum(sieve)"
   ]
  },
  {
   "cell_type": "code",
   "execution_count": null,
   "metadata": {},
   "outputs": [],
   "source": [
    "def pascalRow(n):\n",
    "    a = []\n",
    "    a.append([1])\n",
    "    a.append([1, 1])\n",
    "    for i in range(2, n+1):\n",
    "        b = [1]\n",
    "        for j in range(1, len(a[-1])):\n",
    "            b.append(a[-1][j] + a[-1][j-1])\n",
    "        b.append(1)\n",
    "        a.append(b)\n",
    "    return a[n]"
   ]
  },
  {
   "cell_type": "code",
   "execution_count": null,
   "metadata": {},
   "outputs": [],
   "source": [
    "def findRange(array, n):\n",
    "    if n == array[0]:\n",
    "        return True\n",
    "    acc = [0]\n",
    "    for x in array:\n",
    "        acc.append(acc[-1] + x)\n",
    "    for i in range(len(acc)):\n",
    "        for j in range(i+1, len(acc)):\n",
    "            if n == acc[j] - acc[i]:\n",
    "                return True\n",
    "    return False"
   ]
  },
  {
   "cell_type": "code",
   "execution_count": null,
   "metadata": {},
   "outputs": [],
   "source": [
    "def isPowerOfTwo(n):\n",
    "    if n == 0:\n",
    "        return False\n",
    "    while n%2 == 0:\n",
    "        n //= 2\n",
    "    return n == 1"
   ]
  },
  {
   "cell_type": "code",
   "execution_count": null,
   "metadata": {},
   "outputs": [],
   "source": [
    "import re\n",
    "\n",
    "isPowerOfFour = lambda n: bool(re.match('^0b1(00)*$', bin(n)))"
   ]
  },
  {
   "cell_type": "code",
   "execution_count": null,
   "metadata": {},
   "outputs": [],
   "source": [
    "def perfectSquares(a, b):\n",
    "    i = int(a ** .5)\n",
    "    cnt = 0\n",
    "    while i * i <= b:\n",
    "        if a <= i*i:\n",
    "            cnt += 1\n",
    "        i += 1\n",
    "    return cnt"
   ]
  },
  {
   "cell_type": "code",
   "execution_count": null,
   "metadata": {},
   "outputs": [],
   "source": [
    "import re\n",
    "\n",
    "groupedBits = lambda n: len(re.findall('1+', bin(n)))"
   ]
  },
  {
   "cell_type": "code",
   "execution_count": null,
   "metadata": {},
   "outputs": [],
   "source": [
    "def nextSameDigits(n):\n",
    "    l = list(str(n))\n",
    "    return -1 if not next_permutation(l) else ''.join(l)\n",
    "    \n",
    "    \n",
    "def next_permutation(L):\n",
    "    n = len(L)\n",
    " \n",
    "    #------------------------------------------------------------\n",
    " \n",
    "    # Step 1: find rightmost position i such that L[i] < L[i+1]\n",
    "    i = n - 2\n",
    "    while i >= 0 and L[i] >= L[i+1]:\n",
    "        i -= 1\n",
    "     \n",
    "    if i == -1:\n",
    "        return False\n",
    " \n",
    "    #------------------------------------------------------------\n",
    " \n",
    "    # Step 2: find rightmost position j to the right of i such that L[j] > L[i]\n",
    "    j = i + 1\n",
    "    while j < n and L[j] > L[i]:\n",
    "        j += 1\n",
    "    j -= 1\n",
    "     \n",
    "    #------------------------------------------------------------\n",
    " \n",
    "    # Step 3: swap L[i] and L[j]\n",
    "    L[i], L[j] = L[j], L[i]\n",
    "     \n",
    "    #------------------------------------------------------------\n",
    " \n",
    "    # Step 4: reverse everything to the right of i\n",
    "    left = i + 1\n",
    "    right = n - 1\n",
    " \n",
    "    while left < right:\n",
    "        L[left], L[right] = L[right], L[left]\n",
    "        left += 1\n",
    "        right -= 1\n",
    "             \n",
    "    return True"
   ]
  },
  {
   "cell_type": "code",
   "execution_count": null,
   "metadata": {},
   "outputs": [],
   "source": [
    "from collections import Counter\n",
    "\n",
    "def missingValue(a):\n",
    "    counter = Counter(a)\n",
    "    (y, _), (x, _) = counter.most_common()[-2:]\n",
    "    return x*x*y"
   ]
  },
  {
   "cell_type": "code",
   "execution_count": null,
   "metadata": {},
   "outputs": [],
   "source": [
    "# Not AC???\n",
    "from string import ascii_lowercase\n",
    "\n",
    "def decode2(message):\n",
    "    m = message.lower()\n",
    "    int2char = {i: ascii_lowercase[i-1] for i in range(26)}\n",
    "    char2int = {char:i for i, char in int2char.items()}\n",
    "    res = [int2char[char2int[c]**2 % 26] if c in ascii_lowercase else c for c in m]\n",
    "    return ''.join(res)"
   ]
  },
  {
   "cell_type": "code",
   "execution_count": null,
   "metadata": {},
   "outputs": [],
   "source": [
    "# Accepted in C++\n",
    "from collections import Counter\n",
    "\n",
    "def digitsCount(l, r):\n",
    "    counter = Counter()\n",
    "    for i in range(l, r+1):\n",
    "        counter += Counter(str(i))\n",
    "    return sorted(counter.items(), key=lambda item: (-item[1], item[0]))[0][0]"
   ]
  },
  {
   "cell_type": "code",
   "execution_count": null,
   "metadata": {},
   "outputs": [],
   "source": [
    "def diverseString(s):\n",
    "    if len(s) != len(set(s)):\n",
    "        return False\n",
    "    s = sorted(s)\n",
    "    return all(ord(s[i]) - ord(s[i-1]) == 1 for i in range(1, len(s)))"
   ]
  },
  {
   "cell_type": "code",
   "execution_count": null,
   "metadata": {},
   "outputs": [],
   "source": [
    "from collections import Counter\n",
    "\n",
    "def passwordPolicy(password):\n",
    "    prefix = [Counter()]\n",
    "    for c in password:\n",
    "        cnt = Counter(prefix[-1])\n",
    "        if c.isnumeric():\n",
    "            cnt[0] += 1\n",
    "        elif c.islower():\n",
    "            cnt[1] += 1\n",
    "        elif c.isupper():\n",
    "            cnt[2] += 1\n",
    "        prefix.append(cnt)\n",
    "    \n",
    "    for l in range(6, len(password)+1):\n",
    "        for i in range(len(password)-l+1):\n",
    "            if len(prefix[i+l] - prefix[i]) == 3:\n",
    "                return password[i:i+l]\n",
    "    return ''"
   ]
  },
  {
   "cell_type": "code",
   "execution_count": null,
   "metadata": {},
   "outputs": [],
   "source": [
    "def funGame(arr):\n",
    "    r = 0\n",
    "    for i in arr:\n",
    "        r ^= i\n",
    "    \n",
    "    if r == 0:\n",
    "        return 0\n",
    "    \n",
    "    b = 1\n",
    "    while b < 32:\n",
    "        r |= r >> b\n",
    "        b <<= 1\n",
    "    r += 1\n",
    "    r >>= 1\n",
    "    \n",
    "    return sum(a&r > 0 for a in arr)"
   ]
  },
  {
   "cell_type": "code",
   "execution_count": null,
   "metadata": {},
   "outputs": [],
   "source": [
    "def playfulVowel(s):\n",
    "    s = s.lower()\n",
    "    def is_vowel(c):\n",
    "        return c in 'aiueo'\n",
    "    def is_consonant(c):\n",
    "        return c.isalpha() and not is_vowel(c)\n",
    "    vowels = 'aiueo'\n",
    "    return sum(is_vowel(s[i]) and is_consonant(s[i-1]) and is_consonant(s[i+1]) for i in range(1, len(s)-1))"
   ]
  },
  {
   "cell_type": "code",
   "execution_count": null,
   "metadata": {},
   "outputs": [],
   "source": [
    "def rectanglesFill(n):\n",
    "    dp = [[0] * 16 for _ in range(n + 1)]\n",
    "    dp[1][0] = dp[1][3] = dp[1][12] = dp[1][9] = dp[1][15] = 1\n",
    "    MOD = int(1e9+7)\n",
    "    for i in range(2, n+1):\n",
    "        j = i-1\n",
    "        dp[i][0] = (dp[j][0] + dp[j][3] + dp[j][12] + dp[j][9] + dp[j][15]) % MOD\n",
    "        dp[i][3] = dp[i][12] = (dp[j][0] + dp[j][12]) % MOD\n",
    "        dp[i][5] = dp[i][10] = dp[j][10] % MOD\n",
    "        dp[i][6] = dp[j][9] % MOD\n",
    "        dp[i][9] = (dp[j][6] + dp[j][0]) % MOD\n",
    "        dp[i][15] = dp[j][0]\n",
    "    return dp[n][0]"
   ]
  },
  {
   "cell_type": "code",
   "execution_count": null,
   "metadata": {},
   "outputs": [],
   "source": [
    "# ACed in C++\n",
    "\n",
    "def countZeroDigit(a, b):\n",
    "    s = 0\n",
    "    for i in range(a, b+1):\n",
    "        s += str(i).count('0')\n",
    "    return s"
   ]
  },
  {
   "cell_type": "code",
   "execution_count": null,
   "metadata": {},
   "outputs": [],
   "source": [
    "def sumPrimeInMatrix(a):\n",
    "    s = 0\n",
    "    for r in a:\n",
    "        for n in r:\n",
    "            s += n if miller_rabin(n) else 0\n",
    "    return s\n",
    "    \n",
    "def _try_composite(a, d, n, s):\n",
    "    if pow(a, d, n) == 1:\n",
    "        return False\n",
    "    for i in range(s):\n",
    "        if pow(a, 2**i * d, n) == n-1:\n",
    "            return False\n",
    "    return True\n",
    "\n",
    "def miller_rabin(n,\n",
    "                 _known_primes=[2, 3, 5, 7, 11, 13, 17, 19, 23, 29, 31, 37, 41, 43, 47, 53, 59, 61, 67, 71, 73, 79, 83, 89, 97],\n",
    "                 _precision_for_huge_n=16):\n",
    "    if n < 2:\n",
    "        return False\n",
    "    if n in _known_primes:\n",
    "        return True\n",
    "    if any((n % p) == 0 for p in _known_primes):\n",
    "        return False\n",
    "    d, s = n - 1, 0\n",
    "    while not d % 2:\n",
    "        d, s = d >> 1, s + 1\n",
    "    # Returns exact according to http://primes.utm.edu/prove/prove2_3.html\n",
    "    if n < 1373653: \n",
    "        return not any(_try_composite(a, d, n, s) for a in (2, 3))\n",
    "    if n < 25326001: \n",
    "        return not any(_try_composite(a, d, n, s) for a in (2, 3, 5))\n",
    "    if n < 118670087467: \n",
    "        if n == 3215031751:\n",
    "            return False\n",
    "        return not any(_try_composite(a, d, n, s) for a in (2, 3, 5, 7))\n",
    "    return not any(_try_composite(a, d, n, s) \n",
    "                   for a in _known_primes[:_precision_for_huge_n])"
   ]
  },
  {
   "cell_type": "code",
   "execution_count": null,
   "metadata": {},
   "outputs": [],
   "source": [
    "def reversePairSum(a):\n",
    "    s = 0\n",
    "    for i in range(len(a)):\n",
    "        for j in range(i+1, len(a)):\n",
    "            s += (a[i] + a[j]) if str(a[i]) == str(a[j])[::-1] else 0\n",
    "    return s"
   ]
  },
  {
   "cell_type": "code",
   "execution_count": null,
   "metadata": {},
   "outputs": [],
   "source": [
    "def numberOfMilkBottles(a, b, c):\n",
    "    s = 0\n",
    "    while c >= a:\n",
    "        r = c // a\n",
    "        s += r\n",
    "        c = c % a + b * r\n",
    "    return s"
   ]
  },
  {
   "cell_type": "code",
   "execution_count": null,
   "metadata": {},
   "outputs": [],
   "source": [
    "def countClouds(matrix):\n",
    "    if not matrix or not matrix[0]:\n",
    "        return 0\n",
    "    r, c = len(matrix), len(matrix[0])\n",
    "    m = ['-' * (c+2)]\n",
    "    for row in matrix:\n",
    "        m.append('-%s-' % row)\n",
    "    m += ['-' * (c+2)]\n",
    "    \n",
    "    checked = [[False] * (c+2) for _ in range(r+2)]\n",
    "    \n",
    "    def dfs(m, i, j):\n",
    "        checked[i][j] = True\n",
    "        for v, h in [(0, 1), (1, 0), (0, -1), (-1, 0)]:\n",
    "            if not checked[i+v][j+h] and m[i+v][j+h] == m[i][j]:\n",
    "                dfs(m, i+v, j+h)\n",
    "    \n",
    "    cnt = 0\n",
    "    for i in range(1, r+1):\n",
    "        for j in range(1, c+1):\n",
    "            if checked[i][j] or m[i][j] == '0':\n",
    "                continue\n",
    "            dfs(m, i, j)\n",
    "            cnt += 1\n",
    "    return cnt"
   ]
  },
  {
   "cell_type": "code",
   "execution_count": null,
   "metadata": {},
   "outputs": [],
   "source": [
    "countClouds([\"01101\", \"01111\", \"00001\", \"10011\"])"
   ]
  },
  {
   "cell_type": "code",
   "execution_count": null,
   "metadata": {},
   "outputs": [],
   "source": [
    "def boomerang(arr):\n",
    "    cnt = 0\n",
    "    for i in range(2, len(arr)):\n",
    "        cnt += 1 if arr[i] == arr[i-2] != arr[i-1] else 0\n",
    "    return cnt"
   ]
  },
  {
   "cell_type": "code",
   "execution_count": null,
   "metadata": {},
   "outputs": [],
   "source": [
    "import datetime\n",
    "\n",
    "def isValidDate(d, m, y):\n",
    "    try:\n",
    "        datetime.date(y, m, d)\n",
    "        return True\n",
    "    except:\n",
    "        return False"
   ]
  },
  {
   "cell_type": "code",
   "execution_count": null,
   "metadata": {},
   "outputs": [],
   "source": [
    "def timeCalculation(s):\n",
    "    h = s // 3600\n",
    "    s %= 3600\n",
    "    d = s // 60\n",
    "    s %= 60\n",
    "    return f'{h:02d}:{d:02d}:{s:02d}'"
   ]
  },
  {
   "cell_type": "code",
   "execution_count": null,
   "metadata": {},
   "outputs": [],
   "source": [
    "def minesweeper(matrix):\n",
    "    r, c = len(matrix), len(matrix[0])\n",
    "    m = [[False] * (c+2)]\n",
    "    for row in matrix:\n",
    "        m.append([False] + row + [False])\n",
    "    m += [[False] * (c+2)]\n",
    "    \n",
    "    res = [[0] * (c+2) for _ in range(r+2)]\n",
    "    for i in range(1, r+1):\n",
    "        for j in range(1, c+1):\n",
    "            for ii in range(-1, 2):\n",
    "                for jj in range(-1, 2):\n",
    "                    res[i][j] += m[i+ii][j+jj]\n",
    "            res[i][j] -= m[i][j]\n",
    "    return [row[1:-1] for row in res[1:-1]]"
   ]
  },
  {
   "cell_type": "code",
   "execution_count": null,
   "metadata": {},
   "outputs": [],
   "source": [
    "def compareSumOfDigits(s):\n",
    "    sum_ = 0\n",
    "    for i in s:\n",
    "        d = int(i)\n",
    "        sum_ += d if d % 2 else -d\n",
    "    return sum_"
   ]
  },
  {
   "cell_type": "code",
   "execution_count": null,
   "metadata": {},
   "outputs": [],
   "source": [
    "def regularBracketSequence(sequence):\n",
    "    s = 0\n",
    "    for i in sequence:\n",
    "        s += 1 if i == '(' else -1\n",
    "        if s < 0:\n",
    "            return False\n",
    "    return s == 0"
   ]
  },
  {
   "cell_type": "code",
   "execution_count": null,
   "metadata": {},
   "outputs": [],
   "source": [
    "def onesAndZeros(s):\n",
    "    ones = s.count('1')\n",
    "    zeros = len(s) - ones\n",
    "    return abs(zeros - ones)"
   ]
  },
  {
   "cell_type": "code",
   "execution_count": null,
   "metadata": {},
   "outputs": [],
   "source": [
    "def higherVersion(v1, v2):\n",
    "    v1 = [int(x) for x in v1.split('.')]\n",
    "    v2 = [int(x) for x in v2.split('.')]\n",
    "    for i in range(len(v1)):\n",
    "        if v1[i] < v2[i]:\n",
    "            return False\n",
    "        if v1[i] > v2[i]:\n",
    "            return True\n",
    "    return False"
   ]
  },
  {
   "cell_type": "code",
   "execution_count": null,
   "metadata": {},
   "outputs": [],
   "source": [
    "coolString = lambda s: all(s[i-1].islower() != s[i].islower() for i in range(1, len(s)))"
   ]
  },
  {
   "cell_type": "code",
   "execution_count": null,
   "metadata": {},
   "outputs": [],
   "source": [
    "def arrayMaxConsecutiveSum(inputArray, k):\n",
    "    pre = [0]\n",
    "    for i in inputArray:\n",
    "        pre.append(pre[-1] + i)\n",
    "    max_ = 0\n",
    "    for i in range(k, len(pre)):\n",
    "        max_ = max(max_, pre[i] - pre[i-k])\n",
    "    return max_"
   ]
  },
  {
   "cell_type": "code",
   "execution_count": null,
   "metadata": {},
   "outputs": [],
   "source": [
    "from collections import Counter\n",
    "\n",
    "def removeDuplicateCharacters(s):\n",
    "    res = []\n",
    "    cnt = Counter(s)\n",
    "    for c in s:\n",
    "        if cnt[c] < 2:\n",
    "            res.append(c)\n",
    "    return ''.join(res)"
   ]
  },
  {
   "cell_type": "code",
   "execution_count": null,
   "metadata": {},
   "outputs": [],
   "source": [
    "def maxLenSubStr(s):\n",
    "    S = set(s)\n",
    "    m = 0\n",
    "    for i in S:\n",
    "        m = max(m, s.rfind(i) - s.find(i))\n",
    "    return m + 1"
   ]
  },
  {
   "cell_type": "code",
   "execution_count": null,
   "metadata": {},
   "outputs": [],
   "source": [
    "import string\n",
    "digs = string.digits + string.ascii_letters\n",
    "\n",
    "\n",
    "def fromDecimal(base, x):\n",
    "    if x < 0:\n",
    "        sign = -1\n",
    "    elif x == 0:\n",
    "        return digs[0]\n",
    "    else:\n",
    "        sign = 1\n",
    "\n",
    "    x *= sign\n",
    "    digits = []\n",
    "\n",
    "    while x:\n",
    "        digits.append(digs[int(x % base)])\n",
    "        x = int(x / base)\n",
    "\n",
    "    if sign < 0:\n",
    "        digits.append('-')\n",
    "\n",
    "    digits.reverse()\n",
    "\n",
    "    return ''.join(digits)"
   ]
  },
  {
   "cell_type": "code",
   "execution_count": null,
   "metadata": {},
   "outputs": [],
   "source": [
    "def tennisSet(score1, score2):\n",
    "    win, loss = max(score1, score2), min(score1, score2)\n",
    "    return win == 6 and loss < 5 or win == 7 and 4 < loss < 7"
   ]
  },
  {
   "cell_type": "code",
   "execution_count": null,
   "metadata": {},
   "outputs": [],
   "source": [
    "def gemPower(n):\n",
    "    dp = [[0] * 3 for _ in range(n+1)]\n",
    "    dp[1][0] = dp[1][1] = dp[1][2] = 1\n",
    "    MOD = int(1e9+7)\n",
    "    for i in range(2, n+1):\n",
    "        dp[i][0] = dp[i][1] = (dp[i-1][2] + dp[i-1][1]) % MOD\n",
    "        dp[i][2] = sum(dp[i-1]) % MOD\n",
    "    return sum(dp[n]) % MOD"
   ]
  },
  {
   "cell_type": "code",
   "execution_count": null,
   "metadata": {},
   "outputs": [],
   "source": [
    "def iterMask(n):\n",
    "    res = []\n",
    "    for i in range(1 << 18, -1, -1):\n",
    "        if n & i == i:\n",
    "            res.append(i)\n",
    "    return res"
   ]
  },
  {
   "cell_type": "code",
   "execution_count": null,
   "metadata": {},
   "outputs": [],
   "source": [
    "# ACed in JS\n",
    "def spiralMatrix(n):\n",
    "    m = [[-1] * (n+2)]\n",
    "    for _ in range(n):\n",
    "        m.append([-1] + ([0]*n) + [-1])\n",
    "    m.append([-1] * (n+2))\n",
    "    i, j = 1, 0\n",
    "    dirs = ((0, 1), (1, 0), (0, -1), (-1, 0))\n",
    "    current_dir = 0\n",
    "    x = 1\n",
    "    while x <= n**2:\n",
    "        ii, jj = dirs[current_dir]\n",
    "        if m[i+ii][j+jj] != 0:\n",
    "            current_dir = (current_dir + 1) % 4\n",
    "            ii, jj = dirs[current_dir]\n",
    "        i += ii\n",
    "        j += jj\n",
    "        m[i][j] = x\n",
    "        x += 1\n",
    "    return [r[1:-1] for r in m[1:-1]]"
   ]
  },
  {
   "cell_type": "code",
   "execution_count": null,
   "metadata": {},
   "outputs": [],
   "source": [
    "import ipaddress\n",
    "\n",
    "def isIPv4Address(inputString):\n",
    "    try:\n",
    "        ipaddress.ip_network(inputString)\n",
    "        return True\n",
    "    except:\n",
    "        return False"
   ]
  },
  {
   "cell_type": "code",
   "execution_count": null,
   "metadata": {},
   "outputs": [],
   "source": [
    "def lastDigit(a, b):\n",
    "    if b == 0:\n",
    "        return 1\n",
    "    c = [\n",
    "        [0],\n",
    "        [1],\n",
    "        [2, 4, 8, 6],\n",
    "        [3, 9, 7, 1],\n",
    "        [4, 6],\n",
    "        [5],\n",
    "        [6],\n",
    "        [7, 9, 3, 1],\n",
    "        [8, 4, 2, 6],\n",
    "        [9, 1]\n",
    "    ]\n",
    "    return c[a%10][(b-1)%len(c[a%10])]"
   ]
  },
  {
   "cell_type": "code",
   "execution_count": null,
   "metadata": {},
   "outputs": [],
   "source": [
    "def specialPolynomial(x, n):\n",
    "    if x == 1:\n",
    "        return n - 1\n",
    "    s = 0\n",
    "    for k in range(32):\n",
    "        s += x**k\n",
    "        if s > n:\n",
    "            break\n",
    "    return k - 1"
   ]
  },
  {
   "cell_type": "code",
   "execution_count": null,
   "metadata": {},
   "outputs": [],
   "source": [
    "def calculateElectricBill(n):\n",
    "    s = 1000\n",
    "    if n <= 50:\n",
    "        return s + n * 230\n",
    "    n -= 50\n",
    "    s += 50 * 230\n",
    "    if n <= 50:\n",
    "        return s + n * 480\n",
    "    n -= 50\n",
    "    s += 50 * 480\n",
    "    if n <= 49:\n",
    "        return s + n * 700\n",
    "    n -= 49\n",
    "    s += 49 * 700\n",
    "    return s + n*900"
   ]
  },
  {
   "cell_type": "code",
   "execution_count": null,
   "metadata": {},
   "outputs": [],
   "source": [
    "def candles(a, b):\n",
    "    s = 0\n",
    "    r = 0\n",
    "    while a:\n",
    "        s += a\n",
    "        r += a\n",
    "        a = r // b\n",
    "        r %= b\n",
    "    return s"
   ]
  },
  {
   "cell_type": "code",
   "execution_count": null,
   "metadata": {},
   "outputs": [],
   "source": [
    "def nonZeros(v, a):\n",
    "    s = v + a\n",
    "    vv = int(str(v).replace('0', ''))\n",
    "    aa = int(str(a).replace('0', ''))\n",
    "    ss = int(str(s).replace('0', ''))\n",
    "    return 'YES' if vv + aa == ss else 'NO'"
   ]
  },
  {
   "cell_type": "code",
   "execution_count": null,
   "metadata": {},
   "outputs": [],
   "source": [
    "def messageFromBinaryCode(code):\n",
    "    return ''.join(chr(int(code[i:i+8], 2)) for i in range(0, len(code), 8))"
   ]
  },
  {
   "cell_type": "code",
   "execution_count": null,
   "metadata": {},
   "outputs": [],
   "source": [
    "import re\n",
    "\n",
    "def isMAC48Address(x):\n",
    "    return re.match(\"[0-9a-f]{2}([-:]?)[0-9a-f]{2}(\\\\1[0-9a-f]{2}){4}$\", x.lower()) is not None"
   ]
  },
  {
   "cell_type": "code",
   "execution_count": null,
   "metadata": {},
   "outputs": [],
   "source": [
    "def secondBiggest(n, a):\n",
    "    a = sorted(set(a))\n",
    "    return a[-1] if len(a) == 1 else a[-2]"
   ]
  },
  {
   "cell_type": "code",
   "execution_count": null,
   "metadata": {},
   "outputs": [],
   "source": [
    "pattern = lambda n: 2**(n) - 2 + 2**(n-1)"
   ]
  },
  {
   "cell_type": "code",
   "execution_count": null,
   "metadata": {},
   "outputs": [],
   "source": [
    "def fibonacciNumber(n):\n",
    "    f = [0] * max(2, n+1)\n",
    "    f[1] = 1\n",
    "    MOD = int(1e9+7)\n",
    "    for i in range(2, n+1):\n",
    "        f[i] = (f[i-1] + f[i-2]) % MOD\n",
    "    return f[n]"
   ]
  },
  {
   "cell_type": "code",
   "execution_count": null,
   "metadata": {},
   "outputs": [],
   "source": [
    "def arrayChange(a):\n",
    "    s = 0\n",
    "    for i in range(1, len(a)):\n",
    "        t = max(0, a[i-1] - a[i] + 1)\n",
    "        s += t\n",
    "        a[i] += t\n",
    "    return s"
   ]
  },
  {
   "cell_type": "code",
   "execution_count": null,
   "metadata": {},
   "outputs": [],
   "source": [
    "def onesAndZeros4(s):\n",
    "    s = list(s)\n",
    "    cnt = 0\n",
    "    for i in range(1, len(s)-1):\n",
    "        if s[i] == '1' and s[i-1] == s[i+1] == '0':\n",
    "            s[i+1] = '1'\n",
    "            cnt += 1\n",
    "    return cnt"
   ]
  },
  {
   "cell_type": "code",
   "execution_count": null,
   "metadata": {},
   "outputs": [],
   "source": [
    "def differentSquares(m):\n",
    "    cnt = 0\n",
    "    r, c = len(m)-1, len(m[0])-1\n",
    "    for k in range(r*c):\n",
    "        i, j = k // c, k % c\n",
    "        for x in range(k+1, r*c):\n",
    "            ii, jj = x // c, x % c\n",
    "            if m[i][j] == m[ii][jj] and m[i][j+1] == m[ii][jj+1] and m[i+1][j] == m[ii+1][jj] and m[i+1][j+1] == m[ii+1][jj+1]:\n",
    "                break\n",
    "        else:\n",
    "            cnt += 1\n",
    "    return cnt"
   ]
  },
  {
   "cell_type": "code",
   "execution_count": null,
   "metadata": {},
   "outputs": [],
   "source": [
    "def cyclicString(s):\n",
    "    for i in range(1, len(s)):\n",
    "        sub = s[:i]\n",
    "        ss = sub * (len(s) // i + 1)\n",
    "        if s in ss:\n",
    "            return i\n",
    "    return len(s)\n",
    "        "
   ]
  },
  {
   "cell_type": "code",
   "execution_count": null,
   "metadata": {},
   "outputs": [],
   "source": [
    "def symmetricalMatrix(m):\n",
    "    for i in range(len(m)):\n",
    "        for j in range(i+1, len(m[0])):\n",
    "            if m[i][j] != m[j][i]:\n",
    "                return False\n",
    "    return True"
   ]
  },
  {
   "cell_type": "code",
   "execution_count": null,
   "metadata": {},
   "outputs": [],
   "source": [
    "def haveCommonSubstring(a, b, n):\n",
    "    def gen_sub(x, n):\n",
    "        for i in range(len(x) - n):\n",
    "            for j in range(i + n, len(x) + 1):\n",
    "                yield x[i:j]\n",
    "    sub_a = set()\n",
    "    for s in gen_sub(a, n):\n",
    "        sub_a.add(s)\n",
    "    for s in gen_sub(b, n):\n",
    "        if s in sub_a:\n",
    "            return True\n",
    "    return False"
   ]
  },
  {
   "cell_type": "code",
   "execution_count": null,
   "metadata": {},
   "outputs": [],
   "source": [
    "def decipher(cipher):\n",
    "    res = ''\n",
    "    while cipher:\n",
    "        if cipher[0] == '9':\n",
    "            res += chr(int(cipher[:2]))\n",
    "            cipher = cipher[2:]\n",
    "        else:\n",
    "            res += chr(int(cipher[:3]))\n",
    "            cipher = cipher[3:]\n",
    "    return res"
   ]
  },
  {
   "cell_type": "code",
   "execution_count": null,
   "metadata": {},
   "outputs": [],
   "source": [
    "def depositProfit(deposit, rate, threshold):\n",
    "    i = 0\n",
    "    while deposit < threshold:\n",
    "        i += 1\n",
    "        deposit += rate * deposit / 100\n",
    "    return i"
   ]
  },
  {
   "cell_type": "code",
   "execution_count": null,
   "metadata": {},
   "outputs": [],
   "source": [
    "from collections import Counter\n",
    "\n",
    "def isAnagrams(s1, s2):\n",
    "    c1 = Counter(s1)\n",
    "    c2 = Counter(s2)\n",
    "    d1 = c1 - c2\n",
    "    d2 = c2 - c1\n",
    "    if len(d1) == len(d2) == 0:\n",
    "        return True\n",
    "    if len(d1) > 1 or '?' not in d1:\n",
    "        return False\n",
    "    return sum(d2[k] for k in d2) == d1['?']"
   ]
  },
  {
   "cell_type": "code",
   "execution_count": null,
   "metadata": {},
   "outputs": [],
   "source": [
    "def ratingReview(threshold, ratings):\n",
    "    EPS = 1e-9\n",
    "    res = [i for i in range(len(ratings)) if sum(ratings[i]) / len(ratings[i]) + EPS < threshold]\n",
    "    return res"
   ]
  },
  {
   "cell_type": "code",
   "execution_count": null,
   "metadata": {},
   "outputs": [],
   "source": [
    "def makeTriangle(a, b, c):\n",
    "    i = 0\n",
    "    while True:\n",
    "        a, b, c = sorted([a, b, c])\n",
    "        if a + b > c:\n",
    "#             print(a, b, c)\n",
    "            return i\n",
    "        i += 1\n",
    "        a += 1"
   ]
  },
  {
   "cell_type": "code",
   "execution_count": null,
   "metadata": {},
   "outputs": [],
   "source": [
    "def reverseString(str1):\n",
    "    s = ''\n",
    "    for c in str1[::-1]:\n",
    "        if c.isalpha():\n",
    "            s += c\n",
    "    return s"
   ]
  },
  {
   "cell_type": "code",
   "execution_count": null,
   "metadata": {},
   "outputs": [],
   "source": [
    "def keyboardRow(words):\n",
    "    R = [set('qwertyuiop'), set('asdfghjkl'), set('zxcvbnm')]\n",
    "    res = []\n",
    "    for word in words:\n",
    "        S = set(word.lower())\n",
    "        if any(len(S - r) == 0 for r in R):\n",
    "            res.append(word)\n",
    "    return res"
   ]
  },
  {
   "cell_type": "code",
   "execution_count": null,
   "metadata": {},
   "outputs": [],
   "source": [
    "def duplicate(arr):\n",
    "    return len(set(arr)) != len(arr)"
   ]
  },
  {
   "cell_type": "code",
   "execution_count": null,
   "metadata": {},
   "outputs": [],
   "source": [
    "def cucumbersShopping(v, a, n):\n",
    "    return max(0, sum(range(v+1))*a - n)"
   ]
  },
  {
   "cell_type": "code",
   "execution_count": null,
   "metadata": {},
   "outputs": [],
   "source": [
    "def powersOfTwo(n):\n",
    "    return [1<<i for i in range(len(bin(n))-2) if n&(1<<i)]"
   ]
  },
  {
   "cell_type": "code",
   "execution_count": null,
   "metadata": {},
   "outputs": [],
   "source": [
    "# Test cases are wrong\n",
    "\n",
    "def typeOfTriangle(a, b, c):\n",
    "    a, b, c = sorted([a, b, c])\n",
    "    if a + b <= c or a <= 0:\n",
    "        return -1\n",
    "    if a == b == c:\n",
    "        return 2\n",
    "    if a == b or b == c:\n",
    "        return 1\n",
    "    if a*a + b*b == c*c:\n",
    "        return 3\n",
    "    return 0"
   ]
  },
  {
   "cell_type": "code",
   "execution_count": null,
   "metadata": {},
   "outputs": [],
   "source": [
    "def countSumOfTwoRepresentations(n, l, r):\n",
    "    cnt = 0\n",
    "    for i in range(l, r+1):\n",
    "        if i <= n-i <= r:\n",
    "            cnt += 1\n",
    "    return cnt"
   ]
  },
  {
   "cell_type": "code",
   "execution_count": null,
   "metadata": {},
   "outputs": [],
   "source": [
    "def isPronic(n):\n",
    "    base = int(n ** .5)\n",
    "    return base * (base + 1) == n"
   ]
  },
  {
   "cell_type": "code",
   "execution_count": null,
   "metadata": {},
   "outputs": [],
   "source": [
    "def isSquareFreeInteger(n):\n",
    "    r = int(n ** .5)\n",
    "    sieve = [True] * (r+1)\n",
    "    sieve[0] = sieve[1] = False\n",
    "    for i in range(2, r+1):\n",
    "        if not sieve[i]:\n",
    "            continue\n",
    "        ii = i*2\n",
    "        while ii <= r:\n",
    "            sieve[ii] = False\n",
    "            ii += i\n",
    "    primes = [i for i in range(r+1) if sieve[i]]\n",
    "    \n",
    "    return all(n % (p*p) > 0 for p in primes)"
   ]
  },
  {
   "cell_type": "code",
   "execution_count": null,
   "metadata": {},
   "outputs": [],
   "source": [
    "def setOddBits(n):\n",
    "    x = 1\n",
    "    while x < n:\n",
    "        n |= x\n",
    "        x <<= 2\n",
    "    return n"
   ]
  },
  {
   "cell_type": "code",
   "execution_count": null,
   "metadata": {},
   "outputs": [],
   "source": [
    "def longestCommonPrefix(array):\n",
    "    if not array:\n",
    "        return ''\n",
    "    lens = [len(a) for a in array]\n",
    "    for i in range(min(lens)):\n",
    "        if any(a[i] != array[0][i] for a in array):\n",
    "            break\n",
    "    else:\n",
    "        i += 1\n",
    "    return array[0][:i]"
   ]
  },
  {
   "cell_type": "code",
   "execution_count": null,
   "metadata": {},
   "outputs": [],
   "source": [
    "def arrayCenter(a):\n",
    "    min_ = min(a)\n",
    "    avg = sum(a) / len(a)\n",
    "    return [x for x in a if abs(x - avg) < min_]"
   ]
  },
  {
   "cell_type": "code",
   "execution_count": null,
   "metadata": {},
   "outputs": [],
   "source": [
    "import datetime\n",
    "\n",
    "def date(d, m):\n",
    "    x = datetime.date(2009, m, d)\n",
    "    return ['Monday', 'Tuesday', 'Wednesday', 'Thursday', 'Friday', 'Saturday', 'Sunday'][x.weekday()]"
   ]
  },
  {
   "cell_type": "code",
   "execution_count": null,
   "metadata": {},
   "outputs": [],
   "source": [
    "def pairOfShoes(shoes):\n",
    "    left = [x[1] for x in shoes if x[0] == 0]\n",
    "    right = [x[1] for x in shoes if x[0] == 1]\n",
    "    \n",
    "    if len(left) != len(right):\n",
    "        return False\n",
    "    \n",
    "    left.sort()\n",
    "    right.sort()\n",
    "    return all(left[i] == right[i] for i in range(len(left)))"
   ]
  },
  {
   "cell_type": "code",
   "execution_count": null,
   "metadata": {},
   "outputs": [],
   "source": [
    "def fibonacciIndex(n):\n",
    "    if n == 1:\n",
    "        return 0\n",
    "    f0 = 0\n",
    "    f1 = 1\n",
    "    target = 10**(n-1)\n",
    "    i = 1\n",
    "    while f1 < target:\n",
    "        i += 1\n",
    "        f0, f1 = f1, f0+f1\n",
    "    return i"
   ]
  },
  {
   "cell_type": "code",
   "execution_count": null,
   "metadata": {},
   "outputs": [],
   "source": [
    "from string import ascii_lowercase\n",
    "\n",
    "def cipher26(message):\n",
    "    int2char = ascii_lowercase\n",
    "    char2int = dict(zip(ascii_lowercase, range(26)))\n",
    "    \n",
    "    res = ''\n",
    "    cur = 0\n",
    "    for char in message:\n",
    "        x = char2int[char] - cur\n",
    "        if x < 0:\n",
    "            x += 26\n",
    "        res += int2char[x]\n",
    "        cur += x\n",
    "    return res"
   ]
  },
  {
   "cell_type": "code",
   "execution_count": null,
   "metadata": {},
   "outputs": [],
   "source": [
    "def nextNumber(n):\n",
    "    nbits = len(bin(n)) - 2\n",
    "    \n",
    "    for i in range(nbits):\n",
    "        if n & (1 << i):\n",
    "            n ^= (1 << i)\n",
    "            break\n",
    "\n",
    "    for j in range(i+1, nbits+1):\n",
    "        n ^= (1 << j)\n",
    "        if n & (1 << j):\n",
    "            for k in range(j-i - 1):\n",
    "                n |= (1 << k)\n",
    "            return n"
   ]
  },
  {
   "cell_type": "code",
   "execution_count": null,
   "metadata": {
    "scrolled": true
   },
   "outputs": [],
   "source": [
    "def nextNumber2(arr):\n",
    "    l = len(arr)\n",
    "    if not l:\n",
    "        return arr\n",
    "    if l == 1:\n",
    "        if arr[0] == 1:\n",
    "            return [1, arr[0]]\n",
    "        else:\n",
    "            return [1, 1, arr[0]-1]\n",
    "\n",
    "    arr = [0] * 2 + arr\n",
    "    if l % 2:\n",
    "        l += 1\n",
    "        arr += [0]\n",
    "\n",
    "    arr[-2] -= 1\n",
    "    arr[-1] += 1\n",
    "    \n",
    "    to_be_offed = arr[-2]\n",
    "    arr[-3] -= 1\n",
    "    arr[-2] = 1\n",
    "    arr.append(to_be_offed)\n",
    "    \n",
    "    while arr[0] <= 0:\n",
    "        arr.pop(0)\n",
    "    res = [arr.pop(0)]\n",
    "    \n",
    "    add_next = False\n",
    "    for i in arr:\n",
    "        if add_next:\n",
    "            add_next = False\n",
    "            res[-1] += i\n",
    "            continue\n",
    "        if i == 0:\n",
    "            add_next = True\n",
    "        else:\n",
    "            res.append(i)\n",
    "    \n",
    "    return res"
   ]
  },
  {
   "cell_type": "code",
   "execution_count": null,
   "metadata": {},
   "outputs": [],
   "source": [
    "def candy(n, a):\n",
    "    d = 0\n",
    "    a = set(a)\n",
    "    max_ = 0\n",
    "    for i in range(1, n+1):\n",
    "        cnt = 0\n",
    "        pos = 0\n",
    "        while pos <= n:\n",
    "            pos += i\n",
    "            if pos in a:\n",
    "                break\n",
    "            cnt += 1\n",
    "        else:\n",
    "            if cnt > max_:\n",
    "                max_ = cnt\n",
    "                d = i\n",
    "    return d"
   ]
  },
  {
   "cell_type": "code",
   "execution_count": null,
   "metadata": {},
   "outputs": [],
   "source": []
  }
 ],
 "metadata": {
  "kernelspec": {
   "display_name": "Python 3",
   "language": "python",
   "name": "python3"
  },
  "language_info": {
   "codemirror_mode": {
    "name": "ipython",
    "version": 3
   },
   "file_extension": ".py",
   "mimetype": "text/x-python",
   "name": "python",
   "nbconvert_exporter": "python",
   "pygments_lexer": "ipython3",
   "version": "3.7.2"
  }
 },
 "nbformat": 4,
 "nbformat_minor": 2
}
