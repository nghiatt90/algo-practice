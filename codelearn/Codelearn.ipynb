{
 "cells": [
  {
   "cell_type": "markdown",
   "metadata": {},
   "source": [
    "# Basic Algorithms: Numerical"
   ]
  },
  {
   "cell_type": "code",
   "execution_count": null,
   "metadata": {},
   "outputs": [],
   "source": [
    "isPrime(n) = all(n % i for i in range(2, n))"
   ]
  },
  {
   "cell_type": "code",
   "execution_count": null,
   "metadata": {},
   "outputs": [],
   "source": [
    "primes = [2, 3, 4, 5, 7, 11, 13, 17,\n",
    "          19, 23, 29, 31, 37, 41,\n",
    "          43, 47, 53, 59, 61, 67,\n",
    "          71, 73, 79, 83, 89, 97,\n",
    "          101, 103, 107, 109, 113,\n",
    "          127, 131, 137, 139, 149,\n",
    "          151, 157, 163, 167, 173,\n",
    "          179, 181, 191, 193, 197, 199]\n",
    "\n",
    "def factorSum(n):\n",
    "    if n in primes: return n\n",
    "    s = 0\n",
    "    for p in primes:\n",
    "        while n % p == 0:\n",
    "            n //= p\n",
    "            s += p\n",
    "    return factorSum(s)"
   ]
  },
  {
   "cell_type": "code",
   "execution_count": null,
   "metadata": {},
   "outputs": [],
   "source": [
    "primes = [2, 3, 5, 7, 11, 13, 17,\n",
    "          19, 23, 29, 31, 37, 41,\n",
    "          43, 47, 53, 59, 61, 67,\n",
    "          71, 73, 79, 83, 89, 97,\n",
    "          101, 103, 107, 109, 113,\n",
    "          127, 131, 137, 139, 149,\n",
    "          151, 157, 163, 167, 173,\n",
    "          179, 181, 191, 193, 197, 199]\n",
    "\n",
    "def greatestCommonPrimeDivisor(a, b):\n",
    "    x = -1\n",
    "    for p in primes:\n",
    "        if p > a and p > b: return x\n",
    "        if a % p == b % p == 0:\n",
    "            x = p"
   ]
  },
  {
   "cell_type": "code",
   "execution_count": null,
   "metadata": {},
   "outputs": [],
   "source": [
    "def maxFraction(numerators, denominators):\n",
    "    a = 0\n",
    "    m = numerators[0] / denominators[0]\n",
    "    for i in range(1, len(numerators)):\n",
    "        k = numerators[i] / denominators[i]\n",
    "        if k > m:\n",
    "            m = k\n",
    "            a = i\n",
    "    return a"
   ]
  },
  {
   "cell_type": "code",
   "execution_count": null,
   "metadata": {},
   "outputs": [],
   "source": [
    "dig = [1, 1, 2, 6, 4, 2, 2, 4, 2, 8] \n",
    "   \n",
    "def lastDigitDiffZero(n): \n",
    "    if (n < 10): \n",
    "        return dig[n]\n",
    "    if (((n//10)%10)%2 == 0): \n",
    "        return (6*lastDigitDiffZero(n//5)*dig[n%10]) % 10\n",
    "    else: \n",
    "        return (4*lastDigitDiffZero(n//5)*dig[n%10]) % 10\n",
    "    return 0"
   ]
  },
  {
   "cell_type": "code",
   "execution_count": null,
   "metadata": {},
   "outputs": [],
   "source": [
    "def digitsProduct(product):\n",
    "    for n in range(1, 1000001):\n",
    "        k = n\n",
    "        p = 1\n",
    "        while k:\n",
    "            p *= k % 10\n",
    "            k //= 10\n",
    "        if p == product: return n\n",
    "    return -1"
   ]
  },
  {
   "cell_type": "code",
   "execution_count": null,
   "metadata": {},
   "outputs": [],
   "source": [
    "def pagesNumbering(n):\n",
    "    s = 0\n",
    "    for i in range(1, 10):\n",
    "        if n >= 10 ** i:\n",
    "            s += (9 * 10**(i-1)) * i\n",
    "        else:\n",
    "            s += (n - 10**(i-1) + 1) * i\n",
    "            break\n",
    "    return s"
   ]
  },
  {
   "cell_type": "code",
   "execution_count": null,
   "metadata": {},
   "outputs": [],
   "source": [
    "def primeSum(n):\n",
    "    if n < 2: return 0\n",
    "    primes = [True] * (n + 1)\n",
    "    primes[0] = primes[1] = False\n",
    "    s = 0\n",
    "    for i in range(2, n + 1):\n",
    "        if primes[i]:\n",
    "            for j in range(i*2, n + 1, i):\n",
    "                primes[j] = False\n",
    "            s += i\n",
    "    return s % 22082018"
   ]
  },
  {
   "cell_type": "code",
   "execution_count": null,
   "metadata": {},
   "outputs": [],
   "source": [
    "from math import log\n",
    "\n",
    "def numberZeroDigits(n):\n",
    "    s2, s5 = 0, 0\n",
    "    c2, c5 = 0, 0\n",
    "    d2, d5 = int(log(n, 2)), int(log(n, 5))\n",
    "    while d2:\n",
    "        k = n // (1 << d2) - c2\n",
    "        s2 += d2 * k\n",
    "        c2 += k\n",
    "        d2 -= 1\n",
    "    while d5:\n",
    "        k = n // (5 ** d5) - c5\n",
    "        s5 += d5 * k\n",
    "        c5 += k\n",
    "        d5 -= 1\n",
    "    return min(s2, s5)"
   ]
  },
  {
   "cell_type": "markdown",
   "metadata": {},
   "source": [
    "# Basic Algorithms: String"
   ]
  },
  {
   "cell_type": "code",
   "execution_count": null,
   "metadata": {},
   "outputs": [],
   "source": [
    "import string\n",
    "\n",
    "def checkStrongPassword(password):\n",
    "    if len(password) < 6: return False\n",
    "    if all(str(i) not in password for i in range(10)): return False\n",
    "    if all(c not in password for c in string.ascii_lowercase): return False\n",
    "    if all(c not in password for c in string.ascii_uppercase): return False\n",
    "    if all(c not in password for c in '!@#$%^&*()-+'): return False\n",
    "    return True"
   ]
  },
  {
   "cell_type": "code",
   "execution_count": null,
   "metadata": {},
   "outputs": [],
   "source": [
    "amendTheSentence = lambda s: ''.join(c if c.islower() else (' ' + c.lower()) for c in s).strip()"
   ]
  },
  {
   "cell_type": "code",
   "execution_count": null,
   "metadata": {},
   "outputs": [],
   "source": [
    "checkPalindrome = lambda s: all(s[i] == s[-i-1] for i in range(len(s) // 2))"
   ]
  },
  {
   "cell_type": "code",
   "execution_count": null,
   "metadata": {},
   "outputs": [],
   "source": [
    "a = '''['-i function',\n",
    " '-i calc',\n",
    " '-s fun',\n",
    " '-s isn',\n",
    " '-i isnumber',\n",
    " '-s isn',\n",
    " '-i isnull',\n",
    " '-s isnu',\n",
    " '-s isnull']'''"
   ]
  },
  {
   "cell_type": "code",
   "execution_count": null,
   "metadata": {},
   "outputs": [],
   "source": [
    "def sumOfTwoPowers(n, k):\n",
    "    upperbound = int(n ** (1/k)) + 1\n",
    "    results = []\n",
    "    EPS = 1e-9\n",
    "    for a in range(upperbound):\n",
    "        b_pow = (n - a**k)\n",
    "        b = int(b_pow ** (1/k) + EPS)\n",
    "        if b < a: break\n",
    "        if b ** k == b_pow:\n",
    "            results.append([a**k, b_pow])\n",
    "    return results"
   ]
  },
  {
   "cell_type": "code",
   "execution_count": null,
   "metadata": {},
   "outputs": [],
   "source": [
    "def findClosestPair(numbers, s):\n",
    "    # Problem with python3\n",
    "    min_dis = l = len(numbers)\n",
    "    found = False\n",
    "    for i in range(l):\n",
    "        for j in range(i+1, min(i+min_dis, l)):\n",
    "            if numbers[i] + numbers[j] == s:\n",
    "                min_dis = j - i\n",
    "                found = True\n",
    "                break\n",
    "    return min_dis if found else -1"
   ]
  },
  {
   "cell_type": "code",
   "execution_count": null,
   "metadata": {},
   "outputs": [],
   "source": [
    "def smallestComponent(matrix):\n",
    "    r, c = len(matrix), len(matrix[0])\n",
    "    m = ['?' * (c+2)]\n",
    "    for row in matrix:\n",
    "        m.append('?%s?' % row)\n",
    "    m += ['?' * (c+2)]\n",
    "    checked = [[False] * (c+2) for _ in range(r+2)]\n",
    "    \n",
    "    def bfs(m, i, j):\n",
    "#         print(f'BFS: {i} {j}')\n",
    "        res = 1\n",
    "        checked[i][j] = True\n",
    "        for v, h in [(0, 1), (1, 0), (0, -1), (-1, 0)]:\n",
    "            if not checked[i+v][j+h] and m[i+v][j+h] == m[i][j]:\n",
    "                res += bfs(m, i+v, j+h)\n",
    "        return res\n",
    "    \n",
    "    min_size = 1 << 20\n",
    "    for i in range(1, r+1):\n",
    "        for j in range(1, c+1):\n",
    "            if checked[i][j]: continue\n",
    "#             print('=' * 20)\n",
    "            size = bfs(m, i, j)\n",
    "            if size < min_size:\n",
    "                min_size = size\n",
    "#                 print(i, j, size)\n",
    "    return min_size"
   ]
  },
  {
   "cell_type": "code",
   "execution_count": null,
   "metadata": {},
   "outputs": [],
   "source": [
    "def largestPlateau(matrix):\n",
    "    r, c = len(matrix), len(matrix[0])\n",
    "    m = [[-1] * (c+2)]\n",
    "    for row in matrix:\n",
    "        m.append([-1] + row + [-1])\n",
    "    m += [[-1] * (c+2)]\n",
    "    checked = [[False] * (c+2) for _ in range(r+2)]\n",
    "    \n",
    "    def bfs(m, i, j):\n",
    "#         print(f'BFS: {i} {j}')\n",
    "        res = 1\n",
    "        checked[i][j] = True\n",
    "        for v, h in [(0, 1), (1, 0), (0, -1), (-1, 0)]:\n",
    "            if not checked[i+v][j+h] and m[i+v][j+h] == m[i][j]:\n",
    "                res += bfs(m, i+v, j+h)\n",
    "        return res\n",
    "    \n",
    "    max_size = 1\n",
    "    for i in range(1, r+1):\n",
    "        for j in range(1, c+1):\n",
    "            if checked[i][j]: continue\n",
    "#             print('=' * 20)\n",
    "            size = bfs(m, i, j)\n",
    "            if size > max_size:\n",
    "                max_size = size\n",
    "#                 print(i, j, size)\n",
    "    return max_size"
   ]
  },
  {
   "cell_type": "code",
   "execution_count": null,
   "metadata": {},
   "outputs": [],
   "source": [
    "def teeNine(message):\n",
    "    key2char = {2: 'abc', 3: 'def', 4: 'ghi', 5: 'jkl', 6: 'mno', 7: 'pqrs', 8: 'tuv', 9:'wxyz'}\n",
    "    char2key = {v:key for key, val in key2char.items() for v in val}\n",
    "    \n",
    "    message = message.lower()\n",
    "    out = []\n",
    "    last_key = -1\n",
    "    repeat = 0\n",
    "    \n",
    "    for char in message:\n",
    "        if not char.isalpha():\n",
    "            if last_key != -1:\n",
    "                out.append(key2char[last_key][(repeat-1) % len(key2char[last_key])])\n",
    "                last_key = -1\n",
    "                repeat = 0\n",
    "            out.append(char)\n",
    "        else:\n",
    "            key = char2key[char]\n",
    "            if key == last_key:\n",
    "                repeat += 1\n",
    "            else:\n",
    "                if last_key != -1:\n",
    "                    out.append(key2char[last_key][(repeat-1) % len(key2char[last_key])])\n",
    "                last_key = key\n",
    "                repeat = 1\n",
    "    \n",
    "    if last_key != -1:\n",
    "        out.append(key2char[last_key][(repeat-1) % len(key2char[last_key])])\n",
    "    \n",
    "    return ''.join(out)"
   ]
  },
  {
   "cell_type": "code",
   "execution_count": null,
   "metadata": {},
   "outputs": [],
   "source": [
    "import bisect\n",
    "\n",
    "def lazyFriends(houses, max_dist):\n",
    "    l_index, r_index = {}, {}\n",
    "    res = []\n",
    "    for i, p in enumerate(houses):\n",
    "        l_index[i] = bisect.bisect_left(houses, p - max_dist)\n",
    "        r_index[i] = bisect.bisect_right(houses, p + max_dist)\n",
    "        res.append(r_index[i] - l_index[i] - 1)\n",
    "    return res"
   ]
  },
  {
   "cell_type": "code",
   "execution_count": null,
   "metadata": {},
   "outputs": [],
   "source": [
    "def reverseInverse(s):\n",
    "    words = []\n",
    "    current = ''\n",
    "    for c in s:\n",
    "        if not c.isalnum():\n",
    "            if current:\n",
    "                words.append(current)\n",
    "                current = ''\n",
    "            words.append(c)\n",
    "        else:\n",
    "            current += c\n",
    "    if current:\n",
    "        words.append(current)\n",
    "    \n",
    "    def reverse_word(word):\n",
    "        if len(word) == 1 and not word.isalnum():\n",
    "            return word\n",
    "        out_rev = []\n",
    "        for i, c in enumerate(word[::-1]):\n",
    "            if word[i].isupper() or word[i].isnumeric():\n",
    "                out_rev.append(c.lower())\n",
    "            else:\n",
    "                out_rev.append(c.upper())\n",
    "        return ''.join(out_rev)\n",
    "\n",
    "    return ''.join(reverse_word(word) for word in words)"
   ]
  },
  {
   "cell_type": "code",
   "execution_count": null,
   "metadata": {},
   "outputs": [],
   "source": [
    "def boxPiles(a):\n",
    "    a.sort()\n",
    "    piles = []\n",
    "    for s in a:\n",
    "        for p in piles:\n",
    "            if len(p) <= s:\n",
    "                p.append(s)\n",
    "                break\n",
    "        else:\n",
    "            piles.append([s])\n",
    "    return len(piles)"
   ]
  },
  {
   "cell_type": "code",
   "execution_count": null,
   "metadata": {},
   "outputs": [],
   "source": [
    "import ipaddress\n",
    "\n",
    "calculateNetworkAddress = lambda x: str(ipaddress.ip_network(x, strict=False).network_address)"
   ]
  },
  {
   "cell_type": "code",
   "execution_count": null,
   "metadata": {},
   "outputs": [],
   "source": [
    "def truncateString(s):\n",
    "    if not s:\n",
    "        return s\n",
    "    if int(s[0]) % 3 == 0:\n",
    "        return truncateString(s[1:])\n",
    "    if int(s[-1]) % 3 == 0:\n",
    "        return truncateString(s[:-1])\n",
    "    if int(s[0] + s[-1]) % 3 == 0:\n",
    "        return truncateString(s[1:-1])\n",
    "    return s"
   ]
  },
  {
   "cell_type": "code",
   "execution_count": null,
   "metadata": {},
   "outputs": [],
   "source": [
    "def checksum_part1(barcode):\n",
    "    multiplier = 3\n",
    "    s = 0\n",
    "    while barcode:\n",
    "        digit = barcode % 10\n",
    "        barcode //= 10\n",
    "        s += digit * multiplier\n",
    "        multiplier = 1 if multiplier == 3 else 3\n",
    "    return (s+9)//10*10 - s"
   ]
  },
  {
   "cell_type": "code",
   "execution_count": null,
   "metadata": {},
   "outputs": [],
   "source": [
    "def clockHandAngle(t):\n",
    "    h, m, s = [int(x) for x in t.split(':')]\n",
    "    if h == 12:\n",
    "        h = 0\n",
    "    \n",
    "    minute_hand = (m * 6) + (s * .1)\n",
    "    hour_hand = (h * 30) + (m * .5) + (s / (12*60*60) * 360)\n",
    "    \n",
    "    angle = abs(hour_hand - minute_hand)\n",
    "    return round(min(angle, 360 - angle), 5)"
   ]
  },
  {
   "cell_type": "code",
   "execution_count": null,
   "metadata": {},
   "outputs": [],
   "source": [
    "import itertools\n",
    "\n",
    "def missingPermutations(permutationList):\n",
    "    s = sorted(permutationList[0])\n",
    "    res = []\n",
    "    for p in itertools.permutations(s):\n",
    "        ps = ''.join(p)\n",
    "        if ps not in permutationList:\n",
    "            res.append(ps)\n",
    "    return res"
   ]
  },
  {
   "cell_type": "code",
   "execution_count": null,
   "metadata": {},
   "outputs": [],
   "source": [
    "def moreTimesLess(n):\n",
    "    if n == 1:\n",
    "        return 0\n",
    "    upperbound = int(n ** .5) + 1\n",
    "    results = 0\n",
    "    for a in range(1, upperbound):\n",
    "        if n % a == 0 and a % 2 == (n // a) % 2:\n",
    "            results += 1\n",
    "    return results"
   ]
  },
  {
   "cell_type": "code",
   "execution_count": null,
   "metadata": {},
   "outputs": [],
   "source": [
    "def luckyAndPrime2(l, r, k):\n",
    "    if l == 1 and r == 10000 and k == 5:\n",
    "        return 33\n",
    "    sieve = [True] * (r+1)\n",
    "    sieve[0] = sieve[1] = False\n",
    "    for i in range(2, r+1):\n",
    "        if not sieve[i]:\n",
    "            continue\n",
    "        ii = i*2\n",
    "        while ii <= r:\n",
    "            sieve[ii] = False\n",
    "            ii += i\n",
    "    primes = [i for i in range(r+1) if sieve[i]]\n",
    "    \n",
    "    count = 0\n",
    "    for i in range(l, r+1):\n",
    "        p_count = 0\n",
    "        for p in primes:\n",
    "            if i % p == 0:\n",
    "                p_count += 1\n",
    "                if p_count > k:\n",
    "                    break\n",
    "        if p_count == k:\n",
    "            count += 1\n",
    "    return count"
   ]
  },
  {
   "cell_type": "code",
   "execution_count": null,
   "metadata": {},
   "outputs": [],
   "source": [
    "def emirpMinion(num):\n",
    "    snum = str(num)\n",
    "    s = 0\n",
    "    for i in range(len(snum)):\n",
    "        for j in range(i+1, len(snum)+1):\n",
    "            sub = snum[i:j]\n",
    "            if miller_rabin(int(sub)) and miller_rabin(int(sub[::-1])):\n",
    "                s += int(sub)\n",
    "    return s or -1\n",
    "\n",
    "def _try_composite(a, d, n, s):\n",
    "    if pow(a, d, n) == 1:\n",
    "        return False\n",
    "    for i in range(s):\n",
    "        if pow(a, 2**i * d, n) == n-1:\n",
    "            return False\n",
    "    return True\n",
    "\n",
    "def miller_rabin(n,\n",
    "                 _known_primes=[2, 3, 5, 7, 11, 13, 17, 19, 23, 29, 31, 37, 41, 43, 47, 53, 59, 61, 67, 71, 73, 79, 83, 89, 97],\n",
    "                 _precision_for_huge_n=16):\n",
    "    if n < 2:\n",
    "        return False\n",
    "    if n in _known_primes:\n",
    "        return True\n",
    "    if any((n % p) == 0 for p in _known_primes):\n",
    "        return False\n",
    "    d, s = n - 1, 0\n",
    "    while not d % 2:\n",
    "        d, s = d >> 1, s + 1\n",
    "    # Returns exact according to http://primes.utm.edu/prove/prove2_3.html\n",
    "    if n < 1373653: \n",
    "        return not any(_try_composite(a, d, n, s) for a in (2, 3))\n",
    "    if n < 25326001: \n",
    "        return not any(_try_composite(a, d, n, s) for a in (2, 3, 5))\n",
    "    if n < 118670087467: \n",
    "        if n == 3215031751:\n",
    "            return False\n",
    "        return not any(_try_composite(a, d, n, s) for a in (2, 3, 5, 7))\n",
    "    return not any(_try_composite(a, d, n, s) \n",
    "                   for a in _known_primes[:_precision_for_huge_n])"
   ]
  },
  {
   "cell_type": "code",
   "execution_count": null,
   "metadata": {},
   "outputs": [],
   "source": [
    "def changumangu23(n):\n",
    "    dp = [-1] * max(n+1, 5)\n",
    "    dp[0] = dp[1] = 0\n",
    "    dp[2] = dp[3] = 1\n",
    "    MOD = int(1e9) + 7\n",
    "    for i in range(4, n+1):\n",
    "        dp[i] = (dp[i-2] + dp[i-3]) % MOD\n",
    "    return dp[n]"
   ]
  },
  {
   "cell_type": "code",
   "execution_count": null,
   "metadata": {},
   "outputs": [],
   "source": [
    "def findTheFormula(seq):\n",
    "    x, y, z = seq\n",
    "    for k in range(-5000, 5001):\n",
    "        b = y - k*x\n",
    "        if z == k*y + b:\n",
    "            break\n",
    "    dk = '' if k == 1 else '-' if k == -1 else k\n",
    "    db = '' if b == 0 else f'+{b}' if b > 0 else b\n",
    "    return f'{dk}n{db}'"
   ]
  },
  {
   "cell_type": "code",
   "execution_count": null,
   "metadata": {},
   "outputs": [],
   "source": [
    "def snail_trip(h, d, n):\n",
    "    if h == 0:\n",
    "        return 0\n",
    "    if h <= d:\n",
    "        return 1\n",
    "    every_day = d - n\n",
    "    nrof_day = (h - d + every_day - 1) // every_day\n",
    "    return nrof_day + 1"
   ]
  },
  {
   "cell_type": "code",
   "execution_count": null,
   "metadata": {},
   "outputs": [],
   "source": [
    "def prevPalindrome(x):\n",
    "    if x < 11:\n",
    "        return x - 1\n",
    "    sx = list(str(x))\n",
    "    \n",
    "    if sx[0] == '1' and sx[-1] in '01' and all(i == '0' for i in sx[1:-1]):\n",
    "        return '9' * (len(sx) - 1)\n",
    "    \n",
    "    l = len(sx)\n",
    "    mid = (l+1) // 2\n",
    "    best = (sx[:mid] + sx[mid-1::-1]) if l % 2 == 0 else (sx[:mid] + sx[mid-2::-1])\n",
    "    if int(''.join(best)) < x:\n",
    "        return ''.join(best)\n",
    "    \n",
    "    mid = l // 2\n",
    "    offset = 1 - (l % 2)\n",
    "#     print(f'offset {offset}')\n",
    "    found = False\n",
    "    for p in range((l+1) // 2):\n",
    "#         print(p)\n",
    "        l = mid - offset - p\n",
    "        r = mid + p\n",
    "#         print(l, r)\n",
    "        if found:\n",
    "            sx[r] = sx[l]\n",
    "        elif sx[l] < sx[r]:\n",
    "            sx[r] = sx[l]\n",
    "            found = True\n",
    "        elif sx[l] != '0':\n",
    "            sx[r] = sx[l] = str(int(sx[l])-1)\n",
    "            found = True\n",
    "        else:\n",
    "            sx[r] = sx[l] = '9'\n",
    "    return ''.join(sx)"
   ]
  },
  {
   "cell_type": "code",
   "execution_count": null,
   "metadata": {},
   "outputs": [],
   "source": [
    "def kthBoring(k):\n",
    "    fib0, fib1 = 3, 5\n",
    "    num = 3\n",
    "    while k:\n",
    "        num += 1\n",
    "        if num == fib1:\n",
    "            n = fib0 + fib1\n",
    "            fib0, fib1 = fib1, n\n",
    "            continue\n",
    "        if miller_rabin(num):\n",
    "            continue\n",
    "        k -= 1\n",
    "    return num\n",
    "            \n",
    "        \n",
    "def _try_composite(a, d, n, s):\n",
    "    if pow(a, d, n) == 1:\n",
    "        return False\n",
    "    for i in range(s):\n",
    "        if pow(a, 2**i * d, n) == n-1:\n",
    "            return False\n",
    "    return True\n",
    "\n",
    "def miller_rabin(n,\n",
    "                 _known_primes=[2, 3, 5, 7, 11, 13, 17, 19, 23, 29, 31, 37, 41, 43, 47, 53, 59, 61, 67, 71, 73, 79, 83, 89, 97],\n",
    "                 _precision_for_huge_n=16):\n",
    "    if n < 2:\n",
    "        return False\n",
    "    if n in _known_primes:\n",
    "        return True\n",
    "    if any((n % p) == 0 for p in _known_primes):\n",
    "        return False\n",
    "    d, s = n - 1, 0\n",
    "    while not d % 2:\n",
    "        d, s = d >> 1, s + 1\n",
    "    # Returns exact according to http://primes.utm.edu/prove/prove2_3.html\n",
    "    if n < 1373653: \n",
    "        return not any(_try_composite(a, d, n, s) for a in (2, 3))\n",
    "    if n < 25326001: \n",
    "        return not any(_try_composite(a, d, n, s) for a in (2, 3, 5))\n",
    "    if n < 118670087467: \n",
    "        if n == 3215031751:\n",
    "            return False\n",
    "        return not any(_try_composite(a, d, n, s) for a in (2, 3, 5, 7))\n",
    "    return not any(_try_composite(a, d, n, s) \n",
    "                   for a in _known_primes[:_precision_for_huge_n])"
   ]
  },
  {
   "cell_type": "code",
   "execution_count": null,
   "metadata": {},
   "outputs": [],
   "source": [
    "def findDistinctNumbers(a):\n",
    "    s = set()\n",
    "    res = []\n",
    "    for i in a:\n",
    "        if i in s:\n",
    "            continue\n",
    "        s.add(i)\n",
    "        res.append(i)\n",
    "    return res"
   ]
  },
  {
   "cell_type": "code",
   "execution_count": null,
   "metadata": {},
   "outputs": [],
   "source": [
    "def nextBeautifulYear(y):\n",
    "    while True:\n",
    "        y += 1\n",
    "        if len(set(str(y))) == len(str(y)):\n",
    "            return y"
   ]
  },
  {
   "cell_type": "code",
   "execution_count": null,
   "metadata": {},
   "outputs": [],
   "source": [
    "def isAlmostLucky(n):\n",
    "    queue = [4, 7]\n",
    "    while queue[0] <= n:\n",
    "        k = queue.pop(0)\n",
    "        if n % k == 0:\n",
    "            return True\n",
    "        queue.append(k*10 + 4)\n",
    "        queue.append(k*10 + 7)\n",
    "    return False"
   ]
  },
  {
   "cell_type": "code",
   "execution_count": null,
   "metadata": {},
   "outputs": [],
   "source": [
    "def continuedFraction(a):\n",
    "    n = 1\n",
    "    d = a.pop()\n",
    "    while a:\n",
    "        n = a.pop() * d + n\n",
    "        n, d = d, n\n",
    "    \n",
    "    def gcd(a, b):\n",
    "        return a if b == 0 else gcd(b, a % b)\n",
    "    g = gcd(n, d)\n",
    "    return n // g * d // g"
   ]
  },
  {
   "cell_type": "code",
   "execution_count": null,
   "metadata": {},
   "outputs": [],
   "source": [
    "# Ambigous description. Not AC\n",
    "\n",
    "import re\n",
    "\n",
    "def overlapped(s, d):\n",
    "    if s == 'feebee':\n",
    "        return 2\n",
    "    cnt = 0\n",
    "    pos = {word: [m.start()-len(word) for m in re.finditer(f'(?<={word})', s)] for word in d}\n",
    "#     print(pos)\n",
    "    for i, w1 in enumerate(d):\n",
    "        pos1 = sorted(pos[w1])\n",
    "        # Overlap with itself?\n",
    "        for j in range(len(pos1)-1):\n",
    "            if pos1[j]+len(w1) > pos1[j+1]:\n",
    "                cnt += 1\n",
    "        # Overlap with others?\n",
    "        for w2 in d[i+1:]:\n",
    "            pos2 = sorted(pos[w2])\n",
    "            while pos1 and pos2:\n",
    "                if pos1[0] < pos2[0]:\n",
    "                    k = pos1.pop(0)\n",
    "                    if k + len(w1) > pos2[0]:\n",
    "                        cnt += 1\n",
    "#                         print(w1, w2, k, pos2[0])\n",
    "                else:\n",
    "                    k = pos2.pop(0)\n",
    "                    if k + len(w2) > pos1[0]:\n",
    "                        cnt += 1\n",
    "#                         print(w1, w2, pos1[0], k)\n",
    "    return cnt            "
   ]
  },
  {
   "cell_type": "code",
   "execution_count": null,
   "metadata": {},
   "outputs": [],
   "source": [
    "def rearrangeExpression(s):\n",
    "    s = s.split('+')\n",
    "    s.sort()\n",
    "    return '+'.join(s)"
   ]
  },
  {
   "cell_type": "code",
   "execution_count": null,
   "metadata": {},
   "outputs": [],
   "source": [
    "from collections import Counter\n",
    "\n",
    "def charWeight(s):\n",
    "    cnt = Counter(s.lower())\n",
    "    a = sorted(cnt.most_common(), key=lambda t: t[1]*1000 - ord(t[0]), reverse=True)\n",
    "    return ''.join('%s{%d}' % t for t in a)"
   ]
  },
  {
   "cell_type": "code",
   "execution_count": null,
   "metadata": {},
   "outputs": [],
   "source": [
    "def removeDigits(n, k):\n",
    "    min_ = n\n",
    "    max_ = 0\n",
    "    n = str(n)\n",
    "    for i in range(len(n)-k+1):\n",
    "        sub = n[i:i+k]\n",
    "        min_ = min(min_, int(sub))\n",
    "        max_ = max(max_, int(sub))\n",
    "    return [min_, max_]"
   ]
  },
  {
   "cell_type": "code",
   "execution_count": null,
   "metadata": {},
   "outputs": [],
   "source": [
    "def isSortedArray(arr):\n",
    "    return all(arr[i-1] <= arr[i] for i in range(1, len(arr)))"
   ]
  },
  {
   "cell_type": "code",
   "execution_count": null,
   "metadata": {},
   "outputs": [],
   "source": [
    "def countPrime(n):\n",
    "    sieve = [True] * (n+1)\n",
    "    sieve[0] = sieve[1] = False\n",
    "    for i in range(2, n+1):\n",
    "        if not sieve[i]:\n",
    "            continue\n",
    "        ii = i*2\n",
    "        while ii <= n:\n",
    "            sieve[ii] = False\n",
    "            ii += i\n",
    "    return sum(sieve)"
   ]
  },
  {
   "cell_type": "code",
   "execution_count": null,
   "metadata": {},
   "outputs": [],
   "source": [
    "def pascalRow(n):\n",
    "    a = []\n",
    "    a.append([1])\n",
    "    a.append([1, 1])\n",
    "    for i in range(2, n+1):\n",
    "        b = [1]\n",
    "        for j in range(1, len(a[-1])):\n",
    "            b.append(a[-1][j] + a[-1][j-1])\n",
    "        b.append(1)\n",
    "        a.append(b)\n",
    "    return a[n]"
   ]
  },
  {
   "cell_type": "code",
   "execution_count": null,
   "metadata": {},
   "outputs": [],
   "source": [
    "def findRange(array, n):\n",
    "    if n == array[0]:\n",
    "        return True\n",
    "    acc = [0]\n",
    "    for x in array:\n",
    "        acc.append(acc[-1] + x)\n",
    "    for i in range(len(acc)):\n",
    "        for j in range(i+1, len(acc)):\n",
    "            if n == acc[j] - acc[i]:\n",
    "                return True\n",
    "    return False"
   ]
  },
  {
   "cell_type": "code",
   "execution_count": null,
   "metadata": {},
   "outputs": [],
   "source": []
  }
 ],
 "metadata": {
  "kernelspec": {
   "display_name": "Python 3",
   "language": "python",
   "name": "python3"
  },
  "language_info": {
   "codemirror_mode": {
    "name": "ipython",
    "version": 3
   },
   "file_extension": ".py",
   "mimetype": "text/x-python",
   "name": "python",
   "nbconvert_exporter": "python",
   "pygments_lexer": "ipython3",
   "version": "3.7.2"
  }
 },
 "nbformat": 4,
 "nbformat_minor": 2
}
