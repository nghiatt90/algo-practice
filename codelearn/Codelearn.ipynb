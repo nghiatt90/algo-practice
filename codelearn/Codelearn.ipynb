{
 "cells": [
  {
   "cell_type": "markdown",
   "metadata": {},
   "source": [
    "# Basic Algorithms: Numerical"
   ]
  },
  {
   "cell_type": "code",
   "execution_count": null,
   "metadata": {},
   "outputs": [],
   "source": [
    "isPrime(n) = all(n % i for i in range(2, n))"
   ]
  },
  {
   "cell_type": "code",
   "execution_count": null,
   "metadata": {},
   "outputs": [],
   "source": [
    "primes = [2, 3, 4, 5, 7, 11, 13, 17,\n",
    "          19, 23, 29, 31, 37, 41,\n",
    "          43, 47, 53, 59, 61, 67,\n",
    "          71, 73, 79, 83, 89, 97,\n",
    "          101, 103, 107, 109, 113,\n",
    "          127, 131, 137, 139, 149,\n",
    "          151, 157, 163, 167, 173,\n",
    "          179, 181, 191, 193, 197, 199]\n",
    "\n",
    "def factorSum(n):\n",
    "    if n in primes: return n\n",
    "    s = 0\n",
    "    for p in primes:\n",
    "        while n % p == 0:\n",
    "            n //= p\n",
    "            s += p\n",
    "    return factorSum(s)"
   ]
  },
  {
   "cell_type": "code",
   "execution_count": null,
   "metadata": {},
   "outputs": [],
   "source": [
    "primes = [2, 3, 5, 7, 11, 13, 17,\n",
    "          19, 23, 29, 31, 37, 41,\n",
    "          43, 47, 53, 59, 61, 67,\n",
    "          71, 73, 79, 83, 89, 97,\n",
    "          101, 103, 107, 109, 113,\n",
    "          127, 131, 137, 139, 149,\n",
    "          151, 157, 163, 167, 173,\n",
    "          179, 181, 191, 193, 197, 199]\n",
    "\n",
    "def greatestCommonPrimeDivisor(a, b):\n",
    "    x = -1\n",
    "    for p in primes:\n",
    "        if p > a and p > b: return x\n",
    "        if a % p == b % p == 0:\n",
    "            x = p"
   ]
  },
  {
   "cell_type": "code",
   "execution_count": null,
   "metadata": {},
   "outputs": [],
   "source": [
    "def maxFraction(numerators, denominators):\n",
    "    a = 0\n",
    "    m = numerators[0] / denominators[0]\n",
    "    for i in range(1, len(numerators)):\n",
    "        k = numerators[i] / denominators[i]\n",
    "        if k > m:\n",
    "            m = k\n",
    "            a = i\n",
    "    return a"
   ]
  },
  {
   "cell_type": "code",
   "execution_count": null,
   "metadata": {},
   "outputs": [],
   "source": [
    "dig = [1, 1, 2, 6, 4, 2, 2, 4, 2, 8] \n",
    "   \n",
    "def lastDigitDiffZero(n): \n",
    "    if (n < 10): \n",
    "        return dig[n]\n",
    "    if (((n//10)%10)%2 == 0): \n",
    "        return (6*lastDigitDiffZero(n//5)*dig[n%10]) % 10\n",
    "    else: \n",
    "        return (4*lastDigitDiffZero(n//5)*dig[n%10]) % 10\n",
    "    return 0"
   ]
  },
  {
   "cell_type": "code",
   "execution_count": null,
   "metadata": {},
   "outputs": [],
   "source": [
    "def digitsProduct(product):\n",
    "    for n in range(1, 1000001):\n",
    "        k = n\n",
    "        p = 1\n",
    "        while k:\n",
    "            p *= k % 10\n",
    "            k //= 10\n",
    "        if p == product: return n\n",
    "    return -1"
   ]
  },
  {
   "cell_type": "code",
   "execution_count": null,
   "metadata": {},
   "outputs": [],
   "source": [
    "def pagesNumbering(n):\n",
    "    s = 0\n",
    "    for i in range(1, 10):\n",
    "        if n >= 10 ** i:\n",
    "            s += (9 * 10**(i-1)) * i\n",
    "        else:\n",
    "            s += (n - 10**(i-1) + 1) * i\n",
    "            break\n",
    "    return s"
   ]
  },
  {
   "cell_type": "code",
   "execution_count": null,
   "metadata": {},
   "outputs": [],
   "source": [
    "def primeSum(n):\n",
    "    if n < 2: return 0\n",
    "    primes = [True] * (n + 1)\n",
    "    primes[0] = primes[1] = False\n",
    "    s = 0\n",
    "    for i in range(2, n + 1):\n",
    "        if primes[i]:\n",
    "            for j in range(i*2, n + 1, i):\n",
    "                primes[j] = False\n",
    "            s += i\n",
    "    return s % 22082018"
   ]
  },
  {
   "cell_type": "code",
   "execution_count": null,
   "metadata": {},
   "outputs": [],
   "source": [
    "from math import log\n",
    "\n",
    "def numberZeroDigits(n):\n",
    "    s2, s5 = 0, 0\n",
    "    c2, c5 = 0, 0\n",
    "    d2, d5 = int(log(n, 2)), int(log(n, 5))\n",
    "    while d2:\n",
    "        k = n // (1 << d2) - c2\n",
    "        s2 += d2 * k\n",
    "        c2 += k\n",
    "        d2 -= 1\n",
    "    while d5:\n",
    "        k = n // (5 ** d5) - c5\n",
    "        s5 += d5 * k\n",
    "        c5 += k\n",
    "        d5 -= 1\n",
    "    return min(s2, s5)"
   ]
  },
  {
   "cell_type": "markdown",
   "metadata": {},
   "source": [
    "# Basic Algorithms: String"
   ]
  },
  {
   "cell_type": "code",
   "execution_count": null,
   "metadata": {},
   "outputs": [],
   "source": [
    "import string\n",
    "\n",
    "def checkStrongPassword(password):\n",
    "    if len(password) < 6: return False\n",
    "    if all(str(i) not in password for i in range(10)): return False\n",
    "    if all(c not in password for c in string.ascii_lowercase): return False\n",
    "    if all(c not in password for c in string.ascii_uppercase): return False\n",
    "    if all(c not in password for c in '!@#$%^&*()-+'): return False\n",
    "    return True"
   ]
  },
  {
   "cell_type": "code",
   "execution_count": null,
   "metadata": {},
   "outputs": [],
   "source": [
    "amendTheSentence = lambda s: ''.join(c if c.islower() else (' ' + c.lower()) for c in s).strip()"
   ]
  },
  {
   "cell_type": "code",
   "execution_count": 9,
   "metadata": {},
   "outputs": [],
   "source": [
    "checkPalindrome = lambda s: all(s[i] == s[-i-1] for i in range(len(s) // 2))"
   ]
  },
  {
   "cell_type": "code",
   "execution_count": 7,
   "metadata": {},
   "outputs": [],
   "source": [
    "a = '''['-i function',\n",
    " '-i calc',\n",
    " '-s fun',\n",
    " '-s isn',\n",
    " '-i isnumber',\n",
    " '-s isn',\n",
    " '-i isnull',\n",
    " '-s isnu',\n",
    " '-s isnull']'''"
   ]
  },
  {
   "cell_type": "code",
   "execution_count": 11,
   "metadata": {},
   "outputs": [
    {
     "data": {
      "text/plain": [
       "'[\"-i function\",  \"-i calc\",  \"-s fun\",  \"-s isn\",  \"-i isnumber\",  \"-s isn\",  \"-i isnull\",  \"-s isnu\",  \"-s isnull\"]'"
      ]
     },
     "execution_count": 11,
     "metadata": {},
     "output_type": "execute_result"
    }
   ],
   "source": [
    "a.replace(\"'\", '\"').replace('\\n', ' ')"
   ]
  },
  {
   "cell_type": "code",
   "execution_count": 5,
   "metadata": {},
   "outputs": [],
   "source": [
    "b = a.split('\\n')"
   ]
  },
  {
   "cell_type": "code",
   "execution_count": 6,
   "metadata": {},
   "outputs": [
    {
     "data": {
      "text/plain": [
       "['-i function',\n",
       " '-i calc',\n",
       " '-s fun',\n",
       " '-s isn',\n",
       " '-i isnumber',\n",
       " '-s isn',\n",
       " '-i isnull',\n",
       " '-s isnu',\n",
       " '-s isnull']"
      ]
     },
     "execution_count": 6,
     "metadata": {},
     "output_type": "execute_result"
    }
   ],
   "source": [
    "b"
   ]
  },
  {
   "cell_type": "code",
   "execution_count": null,
   "metadata": {},
   "outputs": [],
   "source": []
  }
 ],
 "metadata": {
  "kernelspec": {
   "display_name": "Python 3",
   "language": "python",
   "name": "python3"
  },
  "language_info": {
   "codemirror_mode": {
    "name": "ipython",
    "version": 3
   },
   "file_extension": ".py",
   "mimetype": "text/x-python",
   "name": "python",
   "nbconvert_exporter": "python",
   "pygments_lexer": "ipython3",
   "version": "3.7.0"
  }
 },
 "nbformat": 4,
 "nbformat_minor": 2
}
