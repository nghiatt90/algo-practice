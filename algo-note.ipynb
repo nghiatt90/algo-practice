{
 "cells": [
  {
   "cell_type": "markdown",
   "metadata": {},
   "source": [
    "# Array"
   ]
  },
  {
   "cell_type": "code",
   "execution_count": null,
   "metadata": {},
   "outputs": [],
   "source": [
    "def next_permutation(L):\n",
    "    \"\"\" \n",
    "    Permute the list L in-place to generate the next lexicographic permutation.\n",
    "    Return True if such a permutation exists, else return False.\n",
    "    \"\"\"\n",
    "    n = len(L)\n",
    " \n",
    "    #------------------------------------------------------------\n",
    "    # Step 1: find rightmost position i such that L[i] < L[i+1]\n",
    "    i = n - 2\n",
    "    while i >= 0 and L[i] >= L[i+1]:\n",
    "        i -= 1\n",
    "    if i == -1:\n",
    "        return False\n",
    "    #------------------------------------------------------------\n",
    "    # Step 2: find rightmost position j to the right of i such that L[j] > L[i]\n",
    "    j = i + 1\n",
    "    while j < n and L[j] > L[i]:\n",
    "        j += 1\n",
    "    j -= 1\n",
    "    #------------------------------------------------------------\n",
    "    # Step 3: swap L[i] and L[j]\n",
    "    L[i], L[j] = L[j], L[i]\n",
    "    #------------------------------------------------------------\n",
    "    # Step 4: reverse everything to the right of i\n",
    "    left = i + 1\n",
    "    right = n - 1\n",
    "    while left < right:\n",
    "        L[left], L[right] = L[right], L[left]\n",
    "        left += 1\n",
    "        right -= 1\n",
    "             \n",
    "    return True"
   ]
  },
  {
   "cell_type": "markdown",
   "metadata": {},
   "source": [
    "# Graph"
   ]
  },
  {
   "cell_type": "code",
   "execution_count": null,
   "metadata": {},
   "outputs": [],
   "source": [
    "from heapq import heappush, heappop\n",
    "\n",
    "def dijkstra(n, graph, start, end):\n",
    "    \"\"\"O(E log V)\"\"\"\n",
    "    priority_queue = [(0, start, -1)]\n",
    "    costs, prev = [-1] * n, [-1] * n\n",
    "\n",
    "    while priority_queue:\n",
    "        cost, v, p = heappop(priority_queue)\n",
    "        if costs[v] < 0:\n",
    "            costs[v] = cost\n",
    "            prev[v] = p\n",
    "            if v == end:\n",
    "                break\n",
    "            for w, edge_cost in graph[v]:\n",
    "                heappush(priority_queue, (cost + edge_cost, w, v))\n",
    "\n",
    "    path = [end]\n",
    "    while prev[path[-1]] >= 0:\n",
    "        path.append(prev[path[-1]])\n",
    "    return costs[end], path"
   ]
  },
  {
   "cell_type": "code",
   "execution_count": null,
   "metadata": {},
   "outputs": [],
   "source": [
    "class DisjointSet(object):\n",
    "    def __init__(self, n, edge_set=[]):\n",
    "        self.roots = list(range(n))\n",
    "        self.ranks = [0] * n\n",
    "        self.nrof_sets = n\n",
    "        for edge in edge_set:\n",
    "            x, y = edge[:2]\n",
    "            self.union(x, y)\n",
    "\n",
    "    def find(self, x):\n",
    "        if self.roots[x] != x:\n",
    "            self.roots[x] = self.find(self.roots[x])\n",
    "        return self.roots[x]\n",
    "    \n",
    "    def union(self, x, y):\n",
    "        root_x = self.find(x)\n",
    "        root_y = self.find(y)\n",
    "        if root_x == root_y:\n",
    "            return 0\n",
    "        \n",
    "        if self.ranks[root_x] < self.ranks[root_y]:\n",
    "            root_x, root_y = root_y, root_x\n",
    "        \n",
    "        self.roots[root_y] = root_x\n",
    "        self.nrof_sets -= 1\n",
    "        if self.ranks[root_x] == self.ranks[root_y]:\n",
    "            self.ranks[root_x] += 1\n",
    "        return 1"
   ]
  },
  {
   "cell_type": "code",
   "execution_count": null,
   "metadata": {},
   "outputs": [],
   "source": [
    "def kruskal_mst(n, edges_heap):\n",
    "    \"\"\"O(E log V). Use for sparse graphs.\"\"\"\n",
    "    set_ = DisjointSet(n)\n",
    "    sum_ = 0\n",
    "    while edges_heap:\n",
    "        cost, x, y = heappop(edges_heap)\n",
    "        sum_ += cost * set_.union(x, y)\n",
    "    return sum_"
   ]
  },
  {
   "cell_type": "code",
   "execution_count": null,
   "metadata": {},
   "outputs": [],
   "source": [
    "def prim_mst(graph, start=0):\n",
    "    \"\"\"O(E log V)\"\"\"\n",
    "    visited = [False] * len(graph)\n",
    "    priority_queue, edges = [(0, start, -1)], []\n",
    "\n",
    "    while priority_queue:\n",
    "        cost, v, prev = heappop(priority_queue)\n",
    "        if not visited[v]:\n",
    "            visited[v] = True\n",
    "            edges.append((cost, prev, v))\n",
    "            for w, edge_cost in graph[v]:\n",
    "                heappush(priority_queue, (edge_cost, w, v))\n",
    "    \n",
    "    return edges[1:]"
   ]
  },
  {
   "cell_type": "markdown",
   "metadata": {},
   "source": [
    "# Math"
   ]
  },
  {
   "cell_type": "code",
   "execution_count": null,
   "metadata": {},
   "outputs": [],
   "source": [
    "def _try_composite(a, d, n, s):\n",
    "    if pow(a, d, n) == 1:\n",
    "        return False\n",
    "    for i in range(s):\n",
    "        if pow(a, 2**i * d, n) == n-1:\n",
    "            return False\n",
    "    return True\n",
    " \n",
    "def miller_rabin(n,\n",
    "                 _known_primes=[2, 3, 5, 7, 11, 13, 17, 19, 23, 29, 31, 37, 41, 43, 47, 53, 59, 61, 67, 71, 73, 79, 83, 89, 97],\n",
    "                 _precision_for_huge_n=16):\n",
    "    if n in _known_primes or n in (0, 1):\n",
    "        return True\n",
    "    if any((n % p) == 0 for p in _known_primes):\n",
    "        return False\n",
    "    d, s = n - 1, 0\n",
    "    while not d % 2:\n",
    "        d, s = d >> 1, s + 1\n",
    "    # Returns exact according to http://primes.utm.edu/prove/prove2_3.html\n",
    "    if n < 1373653: \n",
    "        return not any(_try_composite(a, d, n, s) for a in (2, 3))\n",
    "    if n < 25326001: \n",
    "        return not any(_try_composite(a, d, n, s) for a in (2, 3, 5))\n",
    "    if n < 118670087467: \n",
    "        if n == 3215031751: \n",
    "            return False\n",
    "        return not any(_try_composite(a, d, n, s) for a in (2, 3, 5, 7))\n",
    "    if n < 2152302898747: \n",
    "        return not any(_try_composite(a, d, n, s) for a in (2, 3, 5, 7, 11))\n",
    "    if n < 3474749660383: \n",
    "        return not any(_try_composite(a, d, n, s) for a in (2, 3, 5, 7, 11, 13))\n",
    "    if n < 341550071728321: \n",
    "        return not any(_try_composite(a, d, n, s) for a in (2, 3, 5, 7, 11, 13, 17))\n",
    "    # otherwise\n",
    "    return not any(_try_composite(a, d, n, s) \n",
    "                   for a in _known_primes[:_precision_for_huge_n])"
   ]
  },
  {
   "cell_type": "code",
   "execution_count": null,
   "metadata": {},
   "outputs": [],
   "source": [
    "import string\n",
    "digs = string.digits + string.ascii_letters\n",
    "\n",
    "\n",
    "def to_base(x, base):\n",
    "    \"\"\"Decimal to custom base\"\"\"\n",
    "    if x < 0:\n",
    "        sign = -1\n",
    "    elif x == 0:\n",
    "        return digs[0]\n",
    "    else:\n",
    "        sign = 1\n",
    "\n",
    "    x *= sign\n",
    "    digits = []\n",
    "\n",
    "    while x:\n",
    "        digits.append(digs[int(x % base)])\n",
    "        x = int(x / base)\n",
    "\n",
    "    if sign < 0:\n",
    "        digits.append('-')\n",
    "\n",
    "    digits.reverse()\n",
    "\n",
    "    return ''.join(digits)"
   ]
  },
  {
   "cell_type": "code",
   "execution_count": null,
   "metadata": {},
   "outputs": [],
   "source": [
    "def mod_mul_inverse(l, m):\n",
    "    \"\"\"Generate the Modular multiplicative inverses for number from 1 -> l (mod m)\"\"\"\n",
    "    invs = [0] * l\n",
    "    if l > 1:\n",
    "        invs[1] = 1\n",
    "    for i in range(2, l):\n",
    "        invs[i] = (m - invs[m % i] * (m // i) % m) % m\n",
    "        if invs[i] * i % m != 1:\n",
    "            raise ValueError()\n",
    "    return invs"
   ]
  },
  {
   "cell_type": "code",
   "execution_count": null,
   "metadata": {},
   "outputs": [],
   "source": [
    "import operator as op\n",
    "from functools import reduce\n",
    "\n",
    "def ncr(n, r):\n",
    "    \"\"\"n choose r\"\"\"\n",
    "    r = min(r, n-r)\n",
    "    numer = reduce(op.mul, range(n, n-r, -1), 1)\n",
    "    denom = reduce(op.mul, range(1, r+1), 1)\n",
    "    return numer // denom"
   ]
  },
  {
   "cell_type": "code",
   "execution_count": null,
   "metadata": {},
   "outputs": [],
   "source": [
    "def fastpow(x, y, mod=None):\n",
    "    if y == 0:\n",
    "        return 1\n",
    "    ans = 1\n",
    "    while y > 0:\n",
    "        if y % 2 == 1:\n",
    "            ans *= x\n",
    "            if mod is not None:\n",
    "                ans %= mod\n",
    "        x **= 2\n",
    "        if mod is not None:\n",
    "            x %= mod\n",
    "        y //= 2\n",
    "    return ans"
   ]
  },
  {
   "cell_type": "markdown",
   "metadata": {},
   "source": [
    "# String"
   ]
  },
  {
   "cell_type": "markdown",
   "metadata": {},
   "source": [
    "# Others"
   ]
  },
  {
   "cell_type": "code",
   "execution_count": null,
   "metadata": {},
   "outputs": [],
   "source": [
    "class SegmentTreeMinimum(object):\n",
    "    def __init__(self, arr):\n",
    "        self.n = len(arr)\n",
    "        self.tree = [0] * (2*self.n)\n",
    "        for i in range(self.n):\n",
    "            self.tree[self.n+i] = arr[i]\n",
    "        self.build()\n",
    "    \n",
    "    def build(self):\n",
    "        for i in range(self.n - 1, 0, -1):\n",
    "            self.tree[i] = min(self.tree[i<<1], self.tree[i<<1|1])\n",
    "    \n",
    "    def update(self, i, value):\n",
    "        t = self.n + i\n",
    "        self.tree[t] = value\n",
    "        while t > 1:\n",
    "            self.tree[t>>1] = min(self.tree[t], self.tree[t^1])\n",
    "            t >>= 1\n",
    "    \n",
    "    def query(self, l, r):\n",
    "        res = float('inf');\n",
    "        l += self.n\n",
    "        r += self.n\n",
    "        while l < n:\n",
    "            if l & 1:\n",
    "                res = min(res, self.tree[l])\n",
    "                l += 1\n",
    "            if r & 1:\n",
    "                r -= 1\n",
    "                res = min(res, self.tree[r])\n",
    "        return res"
   ]
  },
  {
   "cell_type": "code",
   "execution_count": null,
   "metadata": {},
   "outputs": [],
   "source": [
    "def cmp_to_key(mycmp):\n",
    "    'Convert a cmp= function into a key= function'\n",
    "    class K:\n",
    "        def __init__(self, obj, *args):\n",
    "            self.obj = obj\n",
    "        def __lt__(self, other):\n",
    "            return mycmp(self.obj, other.obj) < 0\n",
    "        def __gt__(self, other):\n",
    "            return mycmp(self.obj, other.obj) > 0\n",
    "        def __eq__(self, other):\n",
    "            return mycmp(self.obj, other.obj) == 0\n",
    "        def __le__(self, other):\n",
    "            return mycmp(self.obj, other.obj) <= 0\n",
    "        def __ge__(self, other):\n",
    "            return mycmp(self.obj, other.obj) >= 0\n",
    "        def __ne__(self, other):\n",
    "            return mycmp(self.obj, other.obj) != 0\n",
    "    return K"
   ]
  },
  {
   "cell_type": "code",
   "execution_count": null,
   "metadata": {},
   "outputs": [],
   "source": []
  }
 ],
 "metadata": {
  "kernelspec": {
   "display_name": "Python 3",
   "language": "python",
   "name": "python3"
  },
  "language_info": {
   "codemirror_mode": {
    "name": "ipython",
    "version": 3
   },
   "file_extension": ".py",
   "mimetype": "text/x-python",
   "name": "python",
   "nbconvert_exporter": "python",
   "pygments_lexer": "ipython3",
   "version": "3.7.3"
  }
 },
 "nbformat": 4,
 "nbformat_minor": 2
}
