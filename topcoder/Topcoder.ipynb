{
 "cells": [
  {
   "cell_type": "code",
   "execution_count": null,
   "metadata": {},
   "outputs": [],
   "source": [
    "class BadSubstring(object):\n",
    "    def howMany(self, n):\n",
    "        if n == 0:\n",
    "            return 1\n",
    "        if n == 1:\n",
    "            return 3\n",
    "        dp = [[0]*3 for _ in range(n+1)]\n",
    "        dp[1] = [1]*3\n",
    "        \n",
    "        for i in range(2, n+1):\n",
    "            dp[i][0] = dp[i][2] = sum(dp[i-1])\n",
    "            dp[i][1] = dp[i-1][1] + dp[i-1][2]\n",
    "        \n",
    "        return sum(dp[n])"
   ]
  },
  {
   "cell_type": "code",
   "execution_count": null,
   "metadata": {},
   "outputs": [],
   "source": [
    "class DequeSort(object):\n",
    "    def minDeques(self, nums):\n",
    "        n = len(nums)\n",
    "        correct = sorted(nums)\n",
    "        num2id = dict(zip(correct, range(n)))\n",
    "        queues = []\n",
    "        \n",
    "        for x in nums:\n",
    "            k = num2id[x]\n",
    "            for q in queues:\n",
    "                if k == q[0] - 1:\n",
    "                    q[0] -= 1\n",
    "                    break\n",
    "                if k == q[1] + 1:\n",
    "                    q[1] += 1\n",
    "                    break\n",
    "            else:\n",
    "                queues.append([k, k])\n",
    "        return len(queues)"
   ]
  },
  {
   "cell_type": "code",
   "execution_count": null,
   "metadata": {},
   "outputs": [],
   "source": [
    "from collections import Counter\n",
    "\n",
    "class MaximumBalances:\n",
    "    def solve(self, s):\n",
    "        cnt = Counter(s)\n",
    "        n = min(cnt['('], cnt[')'])\n",
    "        return sum(range(n+1))"
   ]
  },
  {
   "cell_type": "code",
   "execution_count": null,
   "metadata": {},
   "outputs": [],
   "source": [
    "class RGBStreet(object):\n",
    "    def estimateCost(self, houses):\n",
    "        cost = [list(map(int, s.split(' '))) for s in houses]\n",
    "        n = len(houses)\n",
    "        INF = (1 << 31) - 1\n",
    "        dp = [[INF]*3 for _ in range(n+1)]\n",
    "        dp[0] = cost[0]\n",
    "        \n",
    "        for i in range(1, n):\n",
    "            dp[i][0] = min(dp[i-1][1], dp[i-1][2]) + cost[i][0]\n",
    "            dp[i][1] = min(dp[i-1][0], dp[i-1][2]) + cost[i][1]\n",
    "            dp[i][2] = min(dp[i-1][0], dp[i-1][1]) + cost[i][2]\n",
    "        \n",
    "        return max(dp[n-1])"
   ]
  },
  {
   "cell_type": "code",
   "execution_count": null,
   "metadata": {},
   "outputs": [],
   "source": [
    "class ScoreDifference(object):\n",
    "    def maximize(self, board):\n",
    "        TOTAL = 1 << 16\n",
    "        INF = (1 << 31) - 1\n",
    "        a = [-INF] * TOTAL\n",
    "        a[0] = 0\n",
    "        used = [False] * TOTAL\n",
    "        used[0] = True\n",
    "        field = [list(map(int, s.split(' '))) for s in board]\n",
    "\n",
    "        byte_at = lambda x, y: (x >> y) & 1\n",
    "        byte_at_2 = lambda x, i, j: byte_at(x, i*4 + j)\n",
    "\n",
    "        def get_board(x):\n",
    "            cnt = 0\n",
    "            ans = [[0]*4 for _ in range(4)]\n",
    "            for i in range(4):\n",
    "                for j in range(4):\n",
    "                    ans[i][j] = field[i][j] if byte_at(x, cnt) == 1 else 0\n",
    "                cnt += 1\n",
    "            return ans\n",
    "\n",
    "        def rec(x):\n",
    "            if used[x]:\n",
    "                return a[x]\n",
    "            used[x] = True\n",
    "            cnt = 0\n",
    "\n",
    "            for i in range(4):\n",
    "                for j in range(4):\n",
    "                    if byte_at(x, cnt) == 1:\n",
    "                        if (i == 0) or (i == 3) or (j == 0) or (j == 3):\n",
    "                            a[x] = max(a[x], field[i][j] - rec(x - (1 << cnt)))\n",
    "                            cnt += 1\n",
    "                            continue\n",
    "                        if (byte_at_2(x, i+1, j) == 0\n",
    "                            or byte_at_2(x, i-1, j) == 0\n",
    "                            or byte_at_2(x, i, j-1) == 0\n",
    "                            or byte_at_2(x, i, j+1) == 0):\n",
    "                            a[x] = max(a[x], field[i][j] - rec(x - (1 << cnt)))\n",
    "                            cnt += 1\n",
    "                            continue\n",
    "                    cnt += 1\n",
    "            return a[x]\n",
    "        \n",
    "        return rec(TOTAL - 1)"
   ]
  },
  {
   "cell_type": "code",
   "execution_count": null,
   "metadata": {},
   "outputs": [],
   "source": [
    "class StringHalving:\n",
    "    def lexsmallest(self, s):\n",
    "        cnt = {x: 2 for x in 'abcdefghijklmnopqrstuvwxyz'}\n",
    "        best = 'z'\n",
    "        for c in s:\n",
    "            if c < best:\n",
    "                best = c\n",
    "            cnt[c] -= 1\n",
    "            if cnt[c] == 0:\n",
    "                break\n",
    "        return best"
   ]
  }
 ],
 "metadata": {
  "kernelspec": {
   "display_name": "Python 3",
   "language": "python",
   "name": "python3"
  },
  "language_info": {
   "codemirror_mode": {
    "name": "ipython",
    "version": 3
   },
   "file_extension": ".py",
   "mimetype": "text/x-python",
   "name": "python",
   "nbconvert_exporter": "python",
   "pygments_lexer": "ipython3",
   "version": "3.7.3"
  }
 },
 "nbformat": 4,
 "nbformat_minor": 2
}
